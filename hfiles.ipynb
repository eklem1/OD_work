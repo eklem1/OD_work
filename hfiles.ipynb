{
 "cells": [
  {
   "cell_type": "code",
   "execution_count": 1,
   "metadata": {},
   "outputs": [],
   "source": [
    "import tables, glob, os, time, sys\n",
    "import numpy as np \n",
    "import matplotlib.pyplot as plt \n",
    "from mpl_toolkits.mplot3d import axes3d, Axes3D\n",
    "import matplotlib.colors as colors\n",
    "from scipy.stats import norm"
   ]
  },
  {
   "cell_type": "code",
   "execution_count": 2,
   "metadata": {},
   "outputs": [],
   "source": [
    "def ReadFile(Keys, File): \n",
    "    if not os.path.isfile(File):\n",
    "        print('no')\n",
    "        return\n",
    "    else: \n",
    "        Data = {}\n",
    "        try:\n",
    "            with tables.open_file(File, mode=\"r\") as f: \n",
    "                for Key in Keys:    \n",
    "                    data = f.root._f_get_child(Key)._f_get_child(Key).read()\n",
    "                    if data is None:\n",
    "                        print(data)\n",
    "                    Data[Key] = data\n",
    "            if Data is None: \n",
    "                print(Data)\n",
    "            return(Data)\n",
    "        except:\n",
    "            return "
   ]
  },
  {
   "cell_type": "code",
   "execution_count": 3,
   "metadata": {},
   "outputs": [],
   "source": [
    "def GetPhotonFlags(Flags):\n",
    "    PhotonFlags = {}\n",
    "    PhotonFlags['NO_HIT'] = (Flags & (0x1 << 0)).astype(bool)   \n",
    "    PhotonFlags['BULK_ABSORB'] = (Flags & (0x1 << 1)).astype(bool)   \n",
    "    PhotonFlags['SURFACE_DETECT'] = (Flags & (0x1 << 2)).astype(bool)   \n",
    "    PhotonFlags['SURFACE_ABSORB'] = (Flags & (0x1 << 3)).astype(bool)   \n",
    "    PhotonFlags['RAYLEIGH_SCATTER'] = (Flags & (0x1 << 4)).astype(bool)   \n",
    "    PhotonFlags['REFLECT_DIFFUSE'] = (Flags & (0x1 << 5)).astype(bool)   \n",
    "    PhotonFlags['REFLECT_SPECULAR'] = (Flags & (0x1 << 6)).astype(bool)    \n",
    "    PhotonFlags['SURFACE_REEMIT'] = (Flags & (0x1 << 7)).astype(bool)    \n",
    "    PhotonFlags['SURFACE_TRANSMIT'] = (Flags & (0x1 << 8)).astype(bool)    \n",
    "    PhotonFlags['BULK_REEMIT'] = (Flags & (0x1 << 9)).astype(bool)   \n",
    "    PhotonFlags['MATERIAL_REFL'] = (Flags & (0x1 << 10)).astype(bool)  \n",
    "    PhotonFlags['NAN_ABORT'] = (Flags & (0x1 << 31)).astype(bool)  \n",
    "    return PhotonFlags"
   ]
  },
  {
   "cell_type": "code",
   "execution_count": 4,
   "metadata": {},
   "outputs": [],
   "source": [
    "Keys1 = ['Origin', 'LastHitTriangle', 'IncidentAngles', 'DetectorHit', \n",
    "                        'Flags', 'FinalPosition', 'NumDetected', 'InitialPosition', 'DetectedPos']#, 'OpticalParameters']\n",
    "\n",
    "# File1 = \"..\\chroma_nEXO_OD_OD_test_210527_164627_r3326.h5\"\n",
    "# File1 = \"..\\chroma_nEXO_OD_OD_test_210528_114859_r7131.h5\"\n",
    "# File1 = 'chroma_nEXO_OD_OD_test_210614_150559_r5036.h5'\n",
    "\n",
    "#Z beam straight down with one PMT in center bottom\n",
    "# File1 = 'chroma_nEXO_OD_OD_test_210615_095507_r6011.h5'\n",
    "# File1 = 'chroma_nEXO_OD_OD_test_210615_095856_r4567.h5'\n",
    "\n",
    "#cherenkov source, pos [0,0,-3400], straight down\n",
    "File1 = 'h5_files\\chroma_nEXO_OD_OD_test_210615_133245_r2794.h5'\n",
    "#cherenkov source, pos [0,0,-3400], at corner [0,-1,-1]\n",
    "File1 = 'h5_files\\chroma_nEXO_OD_OD_test_210615_133535_r3926.h5'\n",
    "#cherenkov source, pos [0,0,-3400], at corner [0,-1,-1], more photons and path length 4000 mm\n",
    "File1 = 'h5_files\\chroma_nEXO_OD_OD_test_210615_145704_r5508.h5'\n",
    "\n",
    "\n",
    "Data1 = ReadFile(Keys1, File1)"
   ]
  },
  {
   "cell_type": "code",
   "execution_count": 5,
   "metadata": {},
   "outputs": [
    {
     "name": "stdout",
     "output_type": "stream",
     "text": [
      "dict_keys(['Origin', 'LastHitTriangle', 'IncidentAngles', 'DetectorHit', 'Flags', 'FinalPosition', 'NumDetected', 'InitialPosition', 'DetectedPos'])\n"
     ]
    }
   ],
   "source": [
    "print(Data1.keys())\n",
    "\n",
    "# for var in Data1.keys():\n",
    "#     print(var, \"- number of entries:\", len(Data1[var]))\n",
    "#     print(\"     \", Data1[var], '\\n')"
   ]
  },
  {
   "cell_type": "markdown",
   "metadata": {},
   "source": [
    "## Plotting final positions"
   ]
  },
  {
   "cell_type": "code",
   "execution_count": 6,
   "metadata": {},
   "outputs": [
    {
     "name": "stderr",
     "output_type": "stream",
     "text": [
      "<ipython-input-6-a346f1d93f7c>:25: RuntimeWarning: divide by zero encountered in float_scalars\n",
      "  Az = np.arctan(y/x)\n"
     ]
    }
   ],
   "source": [
    "finalPos = Data1['FinalPosition']\n",
    "# finalPos[:,0]\n",
    "\n",
    "topHeight = 5000\n",
    "bottomHeight = -5000\n",
    "radius = 6000\n",
    "\n",
    "#get hits on surfaces\n",
    "top = []\n",
    "bottom = []\n",
    "side = []\n",
    "all_sides = []\n",
    "skipped = 0\n",
    "\n",
    "flagTag = GetPhotonFlags(Data1['Flags'])\n",
    "# print(flagTag)\n",
    "\n",
    "for i, pos in enumerate(finalPos):\n",
    "    if flagTag['BULK_ABSORB'][i]: #don't save any photons that are absorbed in the water\n",
    "#         print(\"skip\")\n",
    "        skipped +=1\n",
    "    else:\n",
    "        x,y,z = pos\n",
    "        R = np.sqrt(x*x + y*y)\n",
    "        Az = np.arctan(y/x)\n",
    "        \n",
    "#         print([x,y,z], [R, Az, z])\n",
    "        \n",
    "        #save photons that stopped only near the edge of the WT - to be improved later\n",
    "        if z >= topHeight:\n",
    "            top.append([x,y])\n",
    "            all_sides.append([x,y,z])\n",
    "        elif z <= bottomHeight:\n",
    "            bottom.append([x,y])\n",
    "            all_sides.append([x,y,z])\n",
    "        elif R > radius:\n",
    "            side.append([Az, z])\n",
    "            all_sides.append([x,y,z])\n",
    "            \n",
    "top = np.array(top).T\n",
    "bottom = np.array(bottom).T\n",
    "side = np.array(side).T\n",
    "all_sides = np.array(all_sides).T"
   ]
  },
  {
   "cell_type": "code",
   "execution_count": 7,
   "metadata": {},
   "outputs": [
    {
     "data": {
      "image/png": "[encoded data removed]",
      "text/plain": [
       "<Figure size 432x1008 with 4 Axes>"
      ]
     },
     "metadata": {
      "needs_background": "light"
     },
     "output_type": "display_data"
    }
   ],
   "source": [
    "# print( bottom)\n",
    "\n",
    "fig, axes = plt.subplots(3, 1, figsize=(6,14))\n",
    "\n",
    "Colmap=plt.get_cmap('viridis')\n",
    "binsize = (50, 50)\n",
    "\n",
    "#### top of watertank #####\n",
    "hist1 = axes[0].hist2d(top[0], top[1], bins=binsize, cmap=Colmap)\n",
    "axes[0].set_xlabel(\"X [mm]\")\n",
    "axes[0].set_ylabel(\"Y [mm]\")\n",
    "# axes[0].tick_params(labelbottom=False,labeltop=True)\n",
    "axes[0].xaxis.set_ticks_position('top') \n",
    "axes[0].xaxis.set_label_position('top')\n",
    "axes[0].set_title('Top', x =1.1, y=0.5,)\n",
    "\n",
    "#### wall of watertank #####\n",
    "#Azimuthal position [rad]\n",
    "\n",
    "hist2 = axes[1].hist2d(side[0], side[1], bins=binsize, cmap=Colmap)\n",
    "axes[1].set_xlabel(\"Azimuthal position [rad]\")\n",
    "axes[1].set_ylabel(\"Z [mm]\")\n",
    "axes[1].set_title('Wall', x =1.1, y=0.5,)\n",
    "\n",
    "\n",
    "#### bottom of watertank #####\n",
    "hist3 = axes[2].hist2d(bottom[0], bottom[1], bins=binsize, cmap=Colmap)\n",
    "axes[2].set_xlabel(\"X [mm]\")\n",
    "axes[2].set_ylabel(\"Y [mm]\")\n",
    "axes[2].set_title('Bottom', x =1.1, y=0.5,)\n",
    "\n",
    "# # Find the min and max of all colors for use in setting the color scale.\n",
    "images = [hist1[-1], hist2[-1], hist3[-1]]\n",
    "vmin = min(image.get_array().min() for image in images)\n",
    "vmax = max(image.get_array().max() for image in images)\n",
    "norm = colors.Normalize(vmin=vmin, vmax=vmax)\n",
    "for im in images:\n",
    "    im.set_norm(norm)\n",
    "    \n",
    "# plt.subplots_adjust(left=None, bottom=None, right=None, top=None, wspace=None, hspace=.2)\n",
    "\n",
    "cbar = fig.colorbar(images[0], ax=axes, shrink=0.95, pad=.14)\n",
    "# cbar.set_ticks(np.arange(0, 1.1, 0.5))\n",
    "# cbar.set_ticklabels(['low', 'medium', 'high'])\n",
    "plt.show()"
   ]
  },
  {
   "cell_type": "code",
   "execution_count": 8,
   "metadata": {},
   "outputs": [
    {
     "ename": "NameError",
     "evalue": "name 'mplot3d' is not defined",
     "output_type": "error",
     "traceback": [
      "\u001b[1;31m---------------------------------------------------------------------------\u001b[0m",
      "\u001b[1;31mNameError\u001b[0m                                 Traceback (most recent call last)",
      "\u001b[1;32m<ipython-input-8-fe37dac586f3>\u001b[0m in \u001b[0;36m<module>\u001b[1;34m\u001b[0m\n\u001b[0;32m      1\u001b[0m \u001b[0mfig\u001b[0m \u001b[1;33m=\u001b[0m \u001b[0mplt\u001b[0m\u001b[1;33m.\u001b[0m\u001b[0mfigure\u001b[0m\u001b[1;33m(\u001b[0m\u001b[0mfigsize\u001b[0m\u001b[1;33m=\u001b[0m\u001b[1;33m(\u001b[0m\u001b[1;36m7\u001b[0m\u001b[1;33m,\u001b[0m\u001b[1;36m7\u001b[0m\u001b[1;33m)\u001b[0m\u001b[1;33m)\u001b[0m\u001b[1;33m\u001b[0m\u001b[1;33m\u001b[0m\u001b[0m\n\u001b[1;32m----> 2\u001b[1;33m \u001b[0maxes\u001b[0m \u001b[1;33m=\u001b[0m \u001b[0mmplot3d\u001b[0m\u001b[1;33m.\u001b[0m\u001b[0mAxes3D\u001b[0m\u001b[1;33m(\u001b[0m\u001b[0mfig\u001b[0m\u001b[1;33m)\u001b[0m\u001b[1;33m\u001b[0m\u001b[1;33m\u001b[0m\u001b[0m\n\u001b[0m\u001b[0;32m      3\u001b[0m \u001b[1;33m\u001b[0m\u001b[0m\n\u001b[0;32m      4\u001b[0m \u001b[0mp\u001b[0m \u001b[1;33m=\u001b[0m \u001b[0maxes\u001b[0m\u001b[1;33m.\u001b[0m\u001b[0mscatter3D\u001b[0m\u001b[1;33m(\u001b[0m\u001b[0mall_sides\u001b[0m\u001b[1;33m[\u001b[0m\u001b[1;36m0\u001b[0m\u001b[1;33m]\u001b[0m\u001b[1;33m,\u001b[0m \u001b[0mall_sides\u001b[0m\u001b[1;33m[\u001b[0m\u001b[1;36m1\u001b[0m\u001b[1;33m]\u001b[0m\u001b[1;33m,\u001b[0m \u001b[0mall_sides\u001b[0m\u001b[1;33m[\u001b[0m\u001b[1;36m2\u001b[0m\u001b[1;33m]\u001b[0m\u001b[1;33m,\u001b[0m \u001b[0ms\u001b[0m\u001b[1;33m=\u001b[0m\u001b[1;36m.5\u001b[0m\u001b[1;33m)\u001b[0m\u001b[1;33m\u001b[0m\u001b[1;33m\u001b[0m\u001b[0m\n\u001b[0;32m      5\u001b[0m \u001b[1;33m\u001b[0m\u001b[0m\n",
      "\u001b[1;31mNameError\u001b[0m: name 'mplot3d' is not defined"
     ]
    },
    {
     "data": {
      "text/plain": [
       "<Figure size 504x504 with 0 Axes>"
      ]
     },
     "metadata": {},
     "output_type": "display_data"
    }
   ],
   "source": [
    "fig = plt.figure(figsize=(7,7))\n",
    "axes = mplot3d.Axes3D(fig)\n",
    "\n",
    "p = axes.scatter3D(all_sides[0], all_sides[1], all_sides[2], s=.5)\n",
    "\n",
    "# axes.set_xlim3d(-6000, 6000)\n",
    "# axes.set_ylim3d(-6000, 6000)\n",
    "# axes.set_zlim3d(-7800, +6730)\n",
    "\n",
    "axes.set_xlabel(\"X [mm]\")\n",
    "axes.set_ylabel(\"Y [mm]\")\n",
    "axes.set_zlabel(\"Z [mm]\")\n",
    "axes.xaxis.labelpad=20\n",
    "axes.yaxis.labelpad=15\n",
    "\n",
    "#change angle of view - (elevation, azimuth) angles in degrees\n",
    "# ‘elev’ stores the elevation angle in the z plane. ‘azim’ stores the azimuth angle in the x,y plane.\n",
    "axes.view_init(20, 30)\n",
    "\n",
    "# 0, 90 - XZ plane; 90, 90 - top view\n",
    "\n",
    "plt.show()"
   ]
  },
  {
   "cell_type": "markdown",
   "metadata": {},
   "source": [
    "## Looking at photon paths"
   ]
  },
  {
   "cell_type": "code",
   "execution_count": null,
   "metadata": {},
   "outputs": [],
   "source": [
    "from stl import mesh\n",
    "from mpl_toolkits import mplot3d"
   ]
  },
  {
   "cell_type": "code",
   "execution_count": null,
   "metadata": {},
   "outputs": [],
   "source": [
    "I_pos = Data1['InitialPosition'].T\n",
    "f_pos = Data1['FinalPosition'].T  "
   ]
  },
  {
   "cell_type": "code",
   "execution_count": null,
   "metadata": {},
   "outputs": [],
   "source": [
    "fig = plt.figure(figsize=(7,7))\n",
    "axes = mplot3d.Axes3D(fig)\n",
    "\n",
    "axes.scatter3D(I_pos[0], I_pos[1], I_pos[2], 'blue')\n",
    "axes.scatter3D(f_pos[0], f_pos[1], f_pos[2], 'red', alpha=0.3)\n",
    "\n",
    "\n",
    "# for i in range(len(paths)):\n",
    "#     direction = np.arange(len(paths[i][0]))#, len(paths[i][0]))\n",
    "\n",
    "#     axes.plot3D(paths[i][0], paths[i][1], paths[i][2], 'blue', alpha=0.4)\n",
    "#     p = axes.scatter3D(paths[i][0], paths[i][1], paths[i][2], c=direction, cmap='viridis') #, vmin=0, vmax=ELs_max)\n",
    "    \n",
    "#     print(paths[i][0][1], paths[i][1][1], paths[i][2][1])    \n",
    "\n",
    "# axes.set_xlim3d(-100, 100)\n",
    "# axes.set_ylim3d(-100, 100)\n",
    "# axes.set_zlim3d(-3600, -3200)\n",
    "\n",
    "# axes.set_xlim3d(-6000, 6000)\n",
    "# axes.set_ylim3d(-6000, 6000)\n",
    "# axes.set_zlim3d(-7800, +6730)\n",
    "\n",
    "axes.set_xlabel(\"X [mm]\")\n",
    "axes.set_ylabel(\"Y [mm]\")\n",
    "axes.set_zlabel(\"Z [mm]\")\n",
    "axes.xaxis.labelpad=20\n",
    "axes.yaxis.labelpad=15\n",
    "# axes.zaxis.labelpad=15\n",
    "\n",
    "# axes.legend()\n",
    "\n",
    "# fig.colorbar(p, label=\"Step Number\", shrink=0.8)\n",
    "\n",
    "#change angle of view - (elevation, azimuth) angles in degrees\n",
    "# ‘elev’ stores the elevation angle in the z plane. ‘azim’ stores the azimuth angle in the x,y plane.\n",
    "axes.view_init(20, 20)\n",
    "\n",
    "# 0, 90 - XZ plane; 90, 90 - top view\n",
    "\n",
    "plt.show()\n",
    "\n",
    "# PMT_MetalConnection PMT_Glassware"
   ]
  },
  {
   "cell_type": "code",
   "execution_count": null,
   "metadata": {},
   "outputs": [],
   "source": []
  },
  {
   "cell_type": "code",
   "execution_count": 10,
   "metadata": {},
   "outputs": [],
   "source": [
    "# for f in Data1['Flags']:\n",
    "    \n",
    "flagTag = GetPhotonFlags(Data1['Flags'])\n",
    "\n",
    "bars = np.zeros(len(flagTag.keys()))\n",
    "for i, var in enumerate(flagTag.keys()):\n",
    "    bars[i] = flagTag[var].sum()"
   ]
  },
  {
   "cell_type": "code",
   "execution_count": 11,
   "metadata": {},
   "outputs": [
    {
     "data": {
      "image/png": "[encoded data removed]",
      "text/plain": [
       "<Figure size 432x288 with 1 Axes>"
      ]
     },
     "metadata": {
      "needs_background": "light"
     },
     "output_type": "display_data"
    }
   ],
   "source": [
    "fig = plt.figure()\n",
    "ax = fig.add_axes([0,0,1,1])\n",
    "ax.bar(flagTag.keys(),bars)\n",
    "plt.xticks(rotation=90)\n",
    "plt.show()"
   ]
  },
  {
   "cell_type": "code",
   "execution_count": 14,
   "metadata": {},
   "outputs": [
    {
     "data": {
      "text/plain": [
       "(array([0, 1, 3, 4], dtype=int64),)"
      ]
     },
     "execution_count": 14,
     "metadata": {},
     "output_type": "execute_result"
    }
   ],
   "source": [
    "np.array([1,2,0,3,4]).nonzero()"
   ]
  },
  {
   "cell_type": "code",
   "execution_count": null,
   "metadata": {},
   "outputs": [],
   "source": []
  }
 ],
 "metadata": {
  "kernelspec": {
   "display_name": "Python 3",
   "language": "python",
   "name": "python3"
  },
  "language_info": {
   "codemirror_mode": {
    "name": "ipython",
    "version": 3
   },
   "file_extension": ".py",
   "mimetype": "text/x-python",
   "name": "python",
   "nbconvert_exporter": "python",
   "pygments_lexer": "ipython3",
   "version": "3.8.5"
  }
 },
 "nbformat": 4,
 "nbformat_minor": 4
}
