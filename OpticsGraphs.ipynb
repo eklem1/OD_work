{
 "cells": [
  {
   "cell_type": "code",
   "execution_count": 1,
   "metadata": {},
   "outputs": [],
   "source": [
    "#reloads imported library automatically\n",
    "from IPython.lib.deepreload import reload\n",
    "%load_ext autoreload\n",
    "%autoreload 2"
   ]
  },
  {
   "cell_type": "code",
   "execution_count": 2,
   "metadata": {},
   "outputs": [],
   "source": [
    "import numpy as np\n",
    "import matplotlib.pyplot as plt\n",
    "import scipy.constants as con\n",
    "import LittleFunction"
   ]
  },
  {
   "cell_type": "markdown",
   "metadata": {},
   "source": [
    "# Optics for water\n",
    "\n",
    "## Absorption and scattering"
   ]
  },
  {
   "cell_type": "code",
   "execution_count": 3,
   "metadata": {},
   "outputs": [],
   "source": [
    "#data from texts\n",
    "data = np.genfromtxt('Optics/Fewell_AO348325_Data_File_1.csv', delimiter = ',', skip_header=3).T\n",
    "\n",
    "data_ab = data[:3] #wavelength (nm)\tpure water value \tpure water uncertainty\n",
    "\n",
    "#https://bg.copernicus.org/articles/4/1041/2007/bg-4-1041-2007.pdf\n",
    "# doesn't really match what Soud had in his graphs - actually I think it's not bad, just it's missing the lower values\n",
    "data = np.genfromtxt('Optics/scattering.csv', delimiter = ',')\n",
    "\n",
    "data_sca = data[:,1:]"
   ]
  },
  {
   "cell_type": "code",
   "execution_count": 4,
   "metadata": {},
   "outputs": [],
   "source": [
    "'''\n",
    "data from https://github.com/nEXO-collaboration/nexo-offline/blob/\n",
    "6807b2f844f6f34215f4b9764626e35140838bfd/Simulation/DetSim/nEXOSim/src/nEXOMaterials.cc#L1101\n",
    "'''\n",
    "\n",
    "m = 1\n",
    "eV= 1\n",
    "\n",
    "H2OEnergy_od = np.array([2.07*eV, 2.09*eV, 2.12*eV, 2.20*eV, 2.31*eV,\n",
    "       2.41*eV, 2.48*eV, 2.55*eV, 2.71*eV, 2.83*eV ,\n",
    "       2.96*eV, 3.05*eV, 3.13*eV, 3.25*eV, 3.32*eV,\n",
    "       3.45*eV, 3.57*eV, 3.69*eV, 3.85*eV, 3.99*eV,\n",
    "       4.26*eV, 4.99*eV, 5.29*eV]) #eV\n",
    "\n",
    "H2ORefractiveIndex_od = np.array([1.332     , 1.33233458, 1.33275974, 1.333     , 1.33337057,\n",
    "       1.33440426, 1.33497163, 1.33553901, 1.33667376, 1.33746809,\n",
    "       1.33824548, 1.33866779, 1.33926229, 1.34044132, 1.34115378,\n",
    "       1.3422317 , 1.34324954, 1.34459331, 1.34635211, 1.34761808,\n",
    "       1.35056125, 1.36267944, 1.36844391])\n",
    "\n",
    "H2OImagRefractiveIndex_od = np.array([1.09000000e-08, 8.67541598e-09, 5.81397568e-09, 2.59957621e-09,\n",
    "       1.58045850e-09, 1.15469946e-09, 1.00331820e-09, 9.51327519e-10,\n",
    "       9.79448873e-10, 1.12037523e-09, 1.40633887e-09, 1.65035772e-09,\n",
    "       2.03323649e-09, 2.96013074e-09, 3.67273184e-09, 5.28589740e-09,\n",
    "       6.86164978e-09, 8.73845457e-09, 1.13689749e-08, 1.36037402e-08,\n",
    "       1.84743981e-08, 3.43031978e-08, 4.10709380e-08])\n",
    "    \n",
    "H2OAbsorption_od = np.array([4.57*m ,    7.41*m,   11.22*m,   19.50*m,\n",
    "         47.86*m,   92.28*m,  113.50*m,  190.55*m ,\n",
    "        407.38*m ,  660.69*m,  841.40*m, 1071.52*m,\n",
    "       1148.15*m ,  870.96*m,  660.69*m,  421.70*m,\n",
    "        211.35*m,  105.93*m,   44.67*m,   23.99*m,\n",
    "         18.84*m,   14.79*m,    9.44*m])"
   ]
  },
  {
   "cell_type": "code",
   "execution_count": 5,
   "metadata": {},
   "outputs": [],
   "source": [
    "h = con.physical_constants['Planck constant in eV/Hz'][0]\n",
    "c = con.c #m/s\n",
    "\n",
    "def eVtoWavelength(E): #eV to nm\n",
    "    return h*c/E * 1e9"
   ]
  },
  {
   "cell_type": "code",
   "execution_count": 6,
   "metadata": {},
   "outputs": [],
   "source": [
    "data_grab = np.genfromtxt('Optics/GrabedFromGraph_scat.csv', delimiter = ',').T\n",
    "\n",
    "data_Soud = np.genfromtxt('Optics/SoudWaterProp.csv', delimiter = ',').T\n",
    "\n",
    "# print(data)"
   ]
  },
  {
   "cell_type": "code",
   "execution_count": 7,
   "metadata": {},
   "outputs": [],
   "source": [
    "# plt.plot(data[0], data[1])\n",
    "# plt.semilogy(data_ab[0], data_ab[1], label=\"Absorption\")\n",
    "\n",
    "# # plt.plot(data_sca[0], data_sca[1], label=\"scattering\")\n",
    "\n",
    "# plt.xlabel(\"wavelength [nm]\")\n",
    "# plt.ylabel(\"pure water coefficent [m$^-1$]\")\n",
    "\n",
    "# plt.xlim(250, 1000)\n",
    "# plt.legend()\n",
    "# plt.show()"
   ]
  },
  {
   "cell_type": "code",
   "execution_count": 75,
   "metadata": {},
   "outputs": [
    {
     "data": {
      "image/png": "[encoded data removed]",
      "text/plain": [
       "<Figure size 432x288 with 1 Axes>"
      ]
     },
     "metadata": {
      "needs_background": "light"
     },
     "output_type": "display_data"
    }
   ],
   "source": [
    "# plt.plot(data_ab[0], 1/data_ab[1], label=\"Absorption\")\n",
    "plt.plot(eVtoWavelength(H2OEnergy_od), H2OAbsorption_od, label=\"Absorption in nexo-offline OD branch\") #not really sure why these two are offset\n",
    "\n",
    "plt.plot(data_sca[0], 1/(data_sca[2]*1e-4), label=\"Scattering Twardowski 2007\", ls=\":\")\n",
    "# plt.plot(data_sca[0], 1/(data_sca[3]*1e-4), label=\"scattering2\", ls=\":\")\n",
    "# plt.plot(data_grab[0], 1/(data_grab[1]*1e-4), label=\"scattering_graph\")\n",
    "\n",
    "plt.plot(data_Soud[0], data_Soud[1], label=\"Scattering from Soud\")\n",
    "\n",
    "# plt.plot(scatteringComplied[0], scatteringComplied[1]/1000, label=\"Scattering complied\")\n",
    "\n",
    "plt.xlabel(\"Wavelength [nm]\")\n",
    "plt.ylabel(\"Pure water length [m]\")\n",
    "plt.title(\"Absorption and Scattering\")\n",
    "\n",
    "\n",
    "plt.xlim(250, 550)\n",
    "plt.ylim(0, 400)\n",
    "\n",
    "plt.legend()\n",
    "plt.show()"
   ]
  },
  {
   "cell_type": "code",
   "execution_count": 76,
   "metadata": {},
   "outputs": [],
   "source": [
    "#compile the data from Soud and the textbook for scattering, simply taking the textbook values above where Soud's data cuts off\n",
    "scatteringComplied = [data_Soud[0], data_Soud[1]*1000]\n",
    "\n",
    "SoudMax = np.max(scatteringComplied[0]) #get cut off\n",
    "\n",
    "#sort textbook data\n",
    "inds = data_sca[0].argsort()\n",
    "wavelength_sca = data_sca[0][inds]\n",
    "sca_length = 1000/(data_sca[2]*1e-4)[inds]\n",
    "\n",
    "minI = np.where(wavelength_sca == np.min(wavelength_sca[wavelength_sca > SoudMax]))[0][0]\n",
    "# print(minI, SoudMax, wavelength_sca)\n",
    "\n",
    "scatteringComplied = np.concatenate((scatteringComplied, np.array([wavelength_sca[minI:], sca_length[minI:]])), axis=1)"
   ]
  },
  {
   "cell_type": "code",
   "execution_count": 77,
   "metadata": {},
   "outputs": [
    {
     "name": "stdout",
     "output_type": "stream",
     "text": [
      "Water\n",
      "Absorption\n",
      "0: !!python/tuple [291.04,1.884e+04]\n",
      "1: !!python/tuple [310.74,2.399e+04]\n",
      "2: !!python/tuple [322.04,4.467e+04]\n",
      "3: !!python/tuple [336.0,1.0593e+05]\n",
      "4: !!python/tuple [347.29,2.1135e+05]\n",
      "5: !!python/tuple [359.37,4.217e+05]\n",
      "6: !!python/tuple [373.45,6.6069e+05]\n",
      "7: !!python/tuple [381.49,8.7096e+05]\n",
      "8: !!python/tuple [396.12,1.1482e+06]\n",
      "9: !!python/tuple [406.51,1.0715e+06]\n",
      "10: !!python/tuple [418.87,8.414e+05]\n",
      "11: !!python/tuple [438.11,6.6069e+05]\n",
      "12: !!python/tuple [457.51,4.0738e+05]\n",
      "13: !!python/tuple [486.21,1.9055e+05]\n",
      "14: !!python/tuple [499.94,1.135e+05]\n",
      "15: !!python/tuple [514.46,9.228e+04]\n",
      "16: !!python/tuple [536.73,4.786e+04]\n",
      "Scattering\n",
      "0: !!python/tuple [251.03,2.7216e+04]\n",
      "1: !!python/tuple [255.64,3.0464e+04]\n",
      "2: !!python/tuple [261.22,3.3217e+04]\n",
      "3: !!python/tuple [266.56,3.6467e+04]\n",
      "4: !!python/tuple [274.57,3.9975e+04]\n",
      "5: !!python/tuple [281.86,4.4226e+04]\n",
      "6: !!python/tuple [288.41,4.7728e+04]\n",
      "7: !!python/tuple [294.48,5.1727e+04]\n",
      "8: !!python/tuple [299.82,5.5971e+04]\n",
      "9: !!python/tuple [305.4,5.9719e+04]\n",
      "10: !!python/tuple [310.98,6.4461e+04]\n",
      "11: !!python/tuple [316.81,6.8459e+04]\n",
      "12: !!python/tuple [322.15,7.3697e+04]\n",
      "13: !!python/tuple [327.25,7.7692e+04]\n",
      "14: !!python/tuple [334.29,8.4428e+04]\n",
      "15: !!python/tuple [340.6,9.0664e+04]\n",
      "16: !!python/tuple [345.7,9.6151e+04]\n",
      "17: !!python/tuple [351.28,1.0263e+05]\n",
      "18: !!python/tuple [356.62,1.0862e+05]\n",
      "19: !!python/tuple [361.96,1.146e+05]\n",
      "20: !!python/tuple [367.3,1.2108e+05]\n",
      "21: !!python/tuple [373.13,1.2856e+05]\n",
      "22: !!python/tuple [377.74,1.3429e+05]\n",
      "23: !!python/tuple [382.59,1.4102e+05]\n",
      "24: !!python/tuple [387.45,1.48e+05]\n",
      "25: !!python/tuple [391.58,1.5398e+05]\n",
      "26: !!python/tuple [394.73,1.5896e+05]\n",
      "27: !!python/tuple [398.62,1.6494e+05]\n",
      "28: !!python/tuple [403.96,1.7341e+05]\n",
      "29: !!python/tuple [408.33,1.8113e+05]\n",
      "30: !!python/tuple [412.69,1.8761e+05]\n",
      "31: !!python/tuple [416.34,1.9434e+05]\n",
      "32: !!python/tuple [419.01,1.9981e+05]\n",
      "33: !!python/tuple [425.0,2.2222e+05]\n",
      "34: !!python/tuple [450.0,2.8571e+05]\n",
      "35: !!python/tuple [475.0,3.5971e+05]\n",
      "36: !!python/tuple [500.0,4.5045e+05]\n",
      "37: !!python/tuple [525.0,5.5556e+05]\n"
     ]
    }
   ],
   "source": [
    "print(\"Water\")\n",
    "print(\"Absorption\")\n",
    "LittleFunction.ListForYaml(eVtoWavelength(H2OEnergy_od), H2OAbsorption_od*1000, bounds=[250, 550])\n",
    "print(\"Scattering\")\n",
    "# LittleFunction.ListForYaml(data_Soud[0], data_Soud[1]*1000, bounds=[250, 550])\n",
    "LittleFunction.ListForYaml(scatteringComplied[0], scatteringComplied[1], bounds=[250, 550])\n"
   ]
  },
  {
   "cell_type": "markdown",
   "metadata": {},
   "source": [
    "### index of refraction"
   ]
  },
  {
   "cell_type": "code",
   "execution_count": 48,
   "metadata": {},
   "outputs": [],
   "source": [
    "data = np.genfromtxt('Optics/Huibers1997_Table1.csv', delimiter = ',', skip_header=1).T\n",
    "\n",
    "data_i1a = data[:2,:-8]\n",
    "data_i1b = data[2:]"
   ]
  },
  {
   "cell_type": "code",
   "execution_count": 49,
   "metadata": {},
   "outputs": [],
   "source": [
    "# print(eVtoWavelength(H2OEnergy))"
   ]
  },
  {
   "cell_type": "code",
   "execution_count": 50,
   "metadata": {},
   "outputs": [
    {
     "data": {
      "image/png": "[encoded data removed]",
      "text/plain": [
       "<Figure size 432x288 with 1 Axes>"
      ]
     },
     "metadata": {
      "needs_background": "light"
     },
     "output_type": "display_data"
    }
   ],
   "source": [
    "# plt.plot(data_i1a[0], data_i1a[1], label=\"Huibers1997a\")\n",
    "plt.plot(data_i1b[0], data_i1b[1], label=\"Huibers1997b\")\n",
    "\n",
    "plt.plot(eVtoWavelength(H2OEnergy_od), H2ORefractiveIndex_od, label=\"nexo-offline OD branch\")\n",
    "\n",
    "plt.axhline(y=1.33, color=\"black\", ls=\"--\", label=\"Static 1.33\")\n",
    "\n",
    "plt.xlabel(\"Wavelength [nm]\")\n",
    "plt.ylabel(\"Index of Refraction\")\n",
    "plt.title(\"Index of Refraction\")\n",
    "\n",
    "plt.xlim(250, 600)\n",
    "plt.legend()\n",
    "plt.show()"
   ]
  },
  {
   "cell_type": "code",
   "execution_count": 51,
   "metadata": {},
   "outputs": [],
   "source": [
    "# plt.plot(data_ab[0], data_ab[0]*0, label=\"Absorption\", marker=\"o\")\n",
    "# plt.plot(eVtoWavelength(H2OEnergy_od), eVtoWavelength(H2OEnergy_od)*0+.2, label=\"nEXO-offline_od\", marker=\"o\")\n",
    "\n",
    "# plt.xlim(250, 550)\n",
    "# plt.legend()\n",
    "# plt.show()"
   ]
  },
  {
   "cell_type": "code",
   "execution_count": 78,
   "metadata": {},
   "outputs": [
    {
     "name": "stdout",
     "output_type": "stream",
     "text": [
      "Index of Refraction\n",
      "0: !!python/tuple [291.04,1.3506]\n",
      "1: !!python/tuple [310.74,1.3476]\n",
      "2: !!python/tuple [322.04,1.3464]\n",
      "3: !!python/tuple [336.0,1.3446]\n",
      "4: !!python/tuple [347.29,1.3432]\n",
      "5: !!python/tuple [359.37,1.3422]\n",
      "6: !!python/tuple [373.45,1.3412]\n",
      "7: !!python/tuple [381.49,1.3404]\n",
      "8: !!python/tuple [396.12,1.3393]\n",
      "9: !!python/tuple [406.51,1.3387]\n",
      "10: !!python/tuple [418.87,1.3382]\n",
      "11: !!python/tuple [438.11,1.3375]\n",
      "12: !!python/tuple [457.51,1.3367]\n",
      "13: !!python/tuple [486.21,1.3355]\n",
      "14: !!python/tuple [499.94,1.335]\n",
      "15: !!python/tuple [514.46,1.3344]\n",
      "16: !!python/tuple [536.73,1.3334]\n"
     ]
    }
   ],
   "source": [
    "print(\"Index of Refraction\")\n",
    "LittleFunction.ListForYaml(eVtoWavelength(H2OEnergy_od), H2ORefractiveIndex_od, bounds=[250, 550])"
   ]
  },
  {
   "cell_type": "markdown",
   "metadata": {},
   "source": [
    "# Optics for PMTs"
   ]
  },
  {
   "cell_type": "code",
   "execution_count": 79,
   "metadata": {},
   "outputs": [],
   "source": [
    "\"\"\"\n",
    "Define borosilicate optical properties\n",
    "Pyrex, according to DB XML files  //Taken from Daya Bay DDDB/materials/pyrex.xml\n",
    "\"\"\"\n",
    "mm = 1\n",
    "\n",
    "pyrexEnergies = np.array([1.55*eV, 1.61*eV, 2.07*eV, 2.48*eV, 15.5*eV])\n",
    "pyrexRindex = np.array([1.458, 1.458, 1.458, 1.458, 1.458])\n",
    "pyrexAbsorption = np.array([0.1E-3*mm, 0.5E3*mm, 1.0E3*mm, 2.0E3*mm, 1.0E3*mm]);\n",
    "\n",
    "#from Hamamatsu\n",
    "pyrexTransmittance = np.genfromtxt('Optics/TransmittanceDAYA_BAY.csv', delimiter = ',', skip_header=1).T\n",
    "\n",
    "\"\"\"\n",
    "Define Bialkali optical properties for PMT photocathode - Data from Daya Bay collaboration sims\n",
    "\"\"\"\n",
    "BialkaliEnergy = np.array([1.55*eV, 15.5*eV ])\n",
    "BialkaliRefractiveIndex = np.array([2.9,  2.9])\n",
    "BialkaliImaginaryindex = np.array([1.6, 1.6])\n",
    "\n",
    "BialkaliAbsorption = np.array([2.036E-7, 2.036E-8])*1000 #mm\n",
    "#   //AbsLen[1] = 2.036E-7*m; //Calculated from Imaginary index ABSLENGTH = c/ω · κ"
   ]
  },
  {
   "cell_type": "code",
   "execution_count": 80,
   "metadata": {},
   "outputs": [
    {
     "name": "stdout",
     "output_type": "stream",
     "text": [
      "[1.27983689e-06 1.27983689e-07]\n"
     ]
    }
   ],
   "source": [
    "# https://github.com/nEXO-collaboration/nexo-offline/blob/6807b2f844f6f34215f4b9764626e35140838bfd/Simulation/DetSim/nEXOSim/src/nEXOMaterials.cc#L1088\n",
    "# ab = wl * k_im\n",
    "\n",
    "print(eVtoWavelength(BialkaliEnergy)*BialkaliImaginaryindex * 1e-9)\n",
    "#doesn't match the values in nexo-offline"
   ]
  },
  {
   "cell_type": "code",
   "execution_count": 81,
   "metadata": {},
   "outputs": [
    {
     "data": {
      "image/png": "[encoded data removed]",
      "text/plain": [
       "<Figure size 432x288 with 1 Axes>"
      ]
     },
     "metadata": {
      "needs_background": "light"
     },
     "output_type": "display_data"
    }
   ],
   "source": [
    "plt.plot(eVtoWavelength(pyrexEnergies), pyrexAbsorption/1000, label=\"Absorption for borosilicate in nexo-offline OD branch\")\n",
    "\n",
    "plt.plot(eVtoWavelength(BialkaliEnergy), BialkaliAbsorption/1000, label=\"Absorption for Bialkali in nexo-offline OD branch\")\n",
    "\n",
    "plt.xlabel(\"Wavelength [nm]\")\n",
    "plt.ylabel(\"Length [m]\")\n",
    "plt.title(\"PMT Absorption\")\n",
    "\n",
    "plt.xlim(250, 650)\n",
    "# plt.ylim(0, 400)\n",
    "\n",
    "plt.legend()\n",
    "plt.show()"
   ]
  },
  {
   "cell_type": "code",
   "execution_count": 82,
   "metadata": {},
   "outputs": [],
   "source": [
    "#really just constant\n",
    "# plt.plot(eVtoWavelength(pyrexEnergies), pyrexRindex, label=\"borosilicate nexo-offline OD branch\")\n",
    "# # plt.plot(eVtoWavelength(BialkaliEnergy), BialkaliRefractiveIndex, label=\"Bialkali nexo-offline OD branch\")\n",
    "\n",
    "# plt.xlabel(\"Wavelength [nm]\")\n",
    "# plt.ylabel(\"Index of Refraction\")\n",
    "# plt.title(\"PMT Index of Refraction\")\n",
    "\n",
    "# # plt.xlim(250, 600)\n",
    "# plt.legend()\n",
    "# plt.show()"
   ]
  },
  {
   "cell_type": "code",
   "execution_count": 83,
   "metadata": {},
   "outputs": [
    {
     "data": {
      "image/png": "[encoded data removed]",
      "text/plain": [
       "<Figure size 432x288 with 1 Axes>"
      ]
     },
     "metadata": {
      "needs_background": "light"
     },
     "output_type": "display_data"
    }
   ],
   "source": [
    "\n",
    "plt.plot(pyrexTransmittance[0], pyrexTransmittance[1], label=\"Transmittance for borosilicate\")\n",
    "\n",
    "plt.xlabel(\"Wavelength [nm]\")\n",
    "plt.ylabel(\"Transmittance of the \\n glass of 2 mm thickness (%)\")\n",
    "plt.title(\"Borosilicate Transmittance\")\n",
    "\n",
    "# plt.xlim(250, 550)\n",
    "# plt.ylim(0, 400)\n",
    "\n",
    "plt.legend()\n",
    "plt.show()"
   ]
  },
  {
   "cell_type": "code",
   "execution_count": 84,
   "metadata": {},
   "outputs": [
    {
     "name": "stdout",
     "output_type": "stream",
     "text": [
      "Borosilicate\n",
      "Absorption\n",
      "0: !!python/tuple [499.94,2000.0]\n",
      "1: !!python/tuple [598.96,1000.0]\n",
      "Transmittance\n",
      "0: !!python/tuple [260.0,0.0062]\n",
      "1: !!python/tuple [270.0,0.0053]\n",
      "2: !!python/tuple [280.0,0.008]\n",
      "3: !!python/tuple [290.0,0.05]\n",
      "4: !!python/tuple [300.0,0.2008]\n",
      "5: !!python/tuple [310.0,0.4356]\n",
      "6: !!python/tuple [320.0,0.6478]\n",
      "7: !!python/tuple [330.0,0.7785]\n",
      "8: !!python/tuple [340.0,0.8468]\n",
      "9: !!python/tuple [350.0,0.8875]\n",
      "10: !!python/tuple [360.0,0.9044]\n",
      "11: !!python/tuple [370.0,0.9164]\n",
      "12: !!python/tuple [380.0,0.9154]\n",
      "13: !!python/tuple [390.0,0.9218]\n",
      "14: !!python/tuple [400.0,0.9249]\n",
      "15: !!python/tuple [410.0,0.9256]\n",
      "16: !!python/tuple [420.0,0.9247]\n",
      "17: !!python/tuple [430.0,0.9251]\n",
      "18: !!python/tuple [440.0,0.9254]\n",
      "19: !!python/tuple [450.0,0.9266]\n",
      "20: !!python/tuple [460.0,0.9262]\n",
      "21: !!python/tuple [470.0,0.928]\n",
      "22: !!python/tuple [480.0,0.9284]\n",
      "23: !!python/tuple [490.0,0.928]\n",
      "24: !!python/tuple [500.0,0.9291]\n"
     ]
    }
   ],
   "source": [
    "print(\"Borosilicate\")\n",
    "print(\"Absorption\")\n",
    "LittleFunction.ListForYaml(eVtoWavelength(pyrexEnergies), pyrexAbsorption, bounds=[250, 700])\n",
    "print(\"Transmittance\")\n",
    "LittleFunction.ListForYaml(pyrexTransmittance[0], pyrexTransmittance[1]/100, bounds=[250, 550])"
   ]
  },
  {
   "cell_type": "code",
   "execution_count": 87,
   "metadata": {},
   "outputs": [
    {
     "name": "stdout",
     "output_type": "stream",
     "text": [
      "Bialkali\n",
      "Absorption\n",
      "0: !!python/tuple [79.99,2.036e-05]\n",
      "1: !!python/tuple [799.9,0.0002036]\n",
      "Index\n",
      "0: !!python/tuple [79.99,2.9]\n",
      "1: !!python/tuple [799.9,2.9]\n"
     ]
    }
   ],
   "source": [
    "print(\"Bialkali\")\n",
    "print(\"Absorption\")\n",
    "LittleFunction.ListForYaml(eVtoWavelength(BialkaliEnergy), BialkaliAbsorption)#, bounds=[250, 700])\n",
    "print(\"Index\")\n",
    "LittleFunction.ListForYaml(eVtoWavelength(BialkaliEnergy), BialkaliRefractiveIndex)#, bounds=[250, 550])"
   ]
  },
  {
   "cell_type": "code",
   "execution_count": 86,
   "metadata": {},
   "outputs": [],
   "source": [
    "X = np.array([5,4,3,2,1,4,6,7,99])\n",
    "Y = np.array(['a','b', 'c', 'd', 'e'])"
   ]
  },
  {
   "cell_type": "code",
   "execution_count": 46,
   "metadata": {},
   "outputs": [
    {
     "data": {
      "text/plain": [
       "array([5, 4, 3, 2, 1, 4, 6])"
      ]
     },
     "execution_count": 46,
     "metadata": {},
     "output_type": "execute_result"
    }
   ],
   "source": [
    "X[0:7]"
   ]
  },
  {
   "cell_type": "code",
   "execution_count": null,
   "metadata": {},
   "outputs": [],
   "source": []
  }
 ],
 "metadata": {
  "kernelspec": {
   "display_name": "Python 3.7.4 64-bit",
   "language": "python",
   "name": "python37464bit3e49b3c23c7c4dd080931c91c252ead9"
  },
  "language_info": {
   "codemirror_mode": {
    "name": "ipython",
    "version": 3
   },
   "file_extension": ".py",
   "mimetype": "text/x-python",
   "name": "python",
   "nbconvert_exporter": "python",
   "pygments_lexer": "ipython3",
   "version": "3.8.5"
  }
 },
 "nbformat": 4,
 "nbformat_minor": 4
}
