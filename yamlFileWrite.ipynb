{
 "cells": [
  {
   "cell_type": "code",
   "execution_count": 3,
   "metadata": {},
   "outputs": [],
   "source": [
    "import yaml\n",
    "import numpy as np"
   ]
  },
  {
   "cell_type": "code",
   "execution_count": 4,
   "metadata": {},
   "outputs": [],
   "source": [
    "data = yaml.safe_load(open('OD.yaml'))\n",
    "data['Simulation']['NumberOfPhotons'] = np.array([1200, 800, 4]) \n",
    "\n",
    "# with open('OD.yaml', 'w') as f:\n",
    "#     yaml.safe_dump(data, f, default_flow_style=False)"
   ]
  },
  {
   "cell_type": "code",
   "execution_count": 5,
   "metadata": {},
   "outputs": [
    {
     "data": {
      "text/plain": [
       "array([1200,  800,    4])"
      ]
     },
     "execution_count": 5,
     "metadata": {},
     "output_type": "execute_result"
    }
   ],
   "source": [
    "# data = yaml.safe_load(open('OD.yaml'))\n",
    "data['Simulation']['NumberOfPhotons']\n"
   ]
  },
  {
   "cell_type": "code",
   "execution_count": 6,
   "metadata": {},
   "outputs": [
    {
     "name": "stdout",
     "output_type": "stream",
     "text": [
      "[2 2 3 3 3 4 4 4 4] (9,)\n"
     ]
    },
    {
     "data": {
      "text/plain": [
       "array([[2., 2., 0., 0.],\n",
       "       [3., 3., 3., 0.],\n",
       "       [4., 4., 4., 4.]])"
      ]
     },
     "execution_count": 6,
     "metadata": {},
     "output_type": "execute_result"
    }
   ],
   "source": [
    "NumPerMuon = np.array([2,3,4])\n",
    "\n",
    "a2 = np.ones((3))*2\n",
    "a3 = np.ones((3))*3\n",
    "a4 = np.ones((3))*4\n",
    "\n",
    "# Array = np.array([a2,a2,a3,a3,a3,a4,a4,a4,a4,])\n",
    "\n",
    "Array = np.array([2,2,3,3,3,4,4,4,4,])\n",
    "\n",
    "print(Array, Array.shape)\n",
    "\n",
    "#larger number of photons will be the dimension of one size\n",
    "maxlength = np.max(NumPerMuon)\n",
    "\n",
    "thirdDim = 0\n",
    "\n",
    "if thirdDim > 0: # extra work if there is another dimension to the data\n",
    "    #make empty array to fill with proper shape\n",
    "    newshape = np.zeros( (len(NumPerMuon), maxlength, thirdDim))\n",
    "\n",
    "    for i,num in enumerate(NumPerMuon):\n",
    "        if i==0: #base case\n",
    "            newshape[i] = np.append(Array[:num], np.zeros((maxlength-num, thirdDim)), axis=0)\n",
    "\n",
    "        else:\n",
    "            newshape[i] = np.append(Array[np.sum(NumPerMuon[:i]):np.sum(NumPerMuon[:i+1])], np.zeros((maxlength-num, thirdDim)), axis=0)\n",
    "\n",
    "elif thirdDim == 0:\n",
    "    #make empty array to fill with proper shape\n",
    "    newshape = np.zeros( (len(NumPerMuon), maxlength))\n",
    "    \n",
    "    for i,num in enumerate(NumPerMuon):\n",
    "        if i==0: #base case\n",
    "            newshape[i] = np.pad(Array[:num], (0, maxlength-num))\n",
    "        else:\n",
    "            newshape[i] = np.pad(Array[np.sum(NumPerMuon[:i]):np.sum(NumPerMuon[:i+1])], (0, maxlength-num) )\n",
    "\n",
    "\n",
    "newshape\n",
    "# unshape.resize((len(a), max(a)))\n",
    "# unshape"
   ]
  },
  {
   "cell_type": "code",
   "execution_count": null,
   "metadata": {},
   "outputs": [],
   "source": []
  },
  {
   "cell_type": "code",
   "execution_count": 14,
   "metadata": {},
   "outputs": [],
   "source": [
    "A = np.linspace(0,1)\n",
    "B = None"
   ]
  },
  {
   "cell_type": "code",
   "execution_count": 17,
   "metadata": {},
   "outputs": [],
   "source": [
    "def check(x):\n",
    "    if x is None:\n",
    "        print('none')\n",
    "    else:\n",
    "        print('something')"
   ]
  },
  {
   "cell_type": "code",
   "execution_count": 20,
   "metadata": {},
   "outputs": [
    {
     "name": "stdout",
     "output_type": "stream",
     "text": [
      "something\n"
     ]
    }
   ],
   "source": [
    "check(A)"
   ]
  },
  {
   "cell_type": "code",
   "execution_count": null,
   "metadata": {},
   "outputs": [],
   "source": []
  }
 ],
 "metadata": {
  "kernelspec": {
   "display_name": "Python 3",
   "language": "python",
   "name": "python3"
  },
  "language_info": {
   "codemirror_mode": {
    "name": "ipython",
    "version": 3
   },
   "file_extension": ".py",
   "mimetype": "text/x-python",
   "name": "python",
   "nbconvert_exporter": "python",
   "pygments_lexer": "ipython3",
   "version": "3.8.3"
  }
 },
 "nbformat": 4,
 "nbformat_minor": 4
}
