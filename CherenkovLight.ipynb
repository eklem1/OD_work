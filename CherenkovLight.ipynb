{
 "cells": [
  {
   "cell_type": "code",
   "execution_count": 1,
   "metadata": {},
   "outputs": [],
   "source": [
    "import numpy as np\n",
    "#from numpy.random import choice\n",
    "import matplotlib.pyplot as plt"
   ]
  },
  {
   "cell_type": "markdown",
   "metadata": {},
   "source": [
    "### Getting basic Cherenkov light source for chroma\n",
    "Based off of Soud's code at https://github.com/soudk/phys512/blob/master/project_cherenkov/NumbaCherenkov.ipynb"
   ]
  },
  {
   "cell_type": "code",
   "execution_count": 6,
   "metadata": {},
   "outputs": [
    {
     "data": {
      "image/png": "[encoded data removed]",
      "text/plain": [
       "<Figure size 432x288 with 1 Axes>"
      ]
     },
     "metadata": {
      "needs_background": "light"
     },
     "output_type": "display_data"
    }
   ],
   "source": [
    "#In eV\n",
    "energies = np.array([0.602, 0.689, 1.03,  1.926, 2.583, 2.845, 2.857, 3.124,3.457, 3.643, 3.812, 4.086, 4.511, 4.953, 5.474, 6.262, 7.000, 8.300, 10.00, 12.60])\n",
    "#Refractive index of water from Segelstein, David J. The complex refractive index of water. Diss. University of Missouri--Kansas City, 1981.\n",
    "n = np.array([1.303, 1.3120,   1.3239,   1.3313, 1.3358, 1.3376, 1.3376, 1.3392, 1.3423, 1.3442, 1.3460, 1.3486, 1.3540, 1.3619, 1.3723, 1.3960, 1.3960, 1.3960,1.3960, 1.3960])\n",
    "\n",
    "#plt.plot(energies, n)\n",
    "\n",
    "wavelengths = 1239.8/energies\n",
    "\n",
    "freq = 3e17/wavelengths\n",
    "\n",
    "#Only take the ~near visible range (where photomultiplier tubes are sensitive). \n",
    "#This is the tail of the Cherenkov emission spectrum.\n",
    "cut = [3,7]\n",
    "freq = freq[cut[0]:cut[1]]\n",
    "wavelengths=wavelengths[cut[0]:cut[1]]\n",
    "energies=energies[cut[0]:cut[1]]\n",
    "n=n[cut[0]:cut[1]]\n",
    "\n",
    "plt.plot(wavelengths, n)\n",
    "plt.xlabel('photon wavelength (nm)')\n",
    "plt.ylabel('Real Index of Refraction')\n",
    "plt.show()"
   ]
  },
  {
   "cell_type": "code",
   "execution_count": 2,
   "metadata": {},
   "outputs": [],
   "source": [
    "def propagateChere_init(parentPtcl):\n",
    "    \n",
    "    parentMomentum = np.array([parentPtcl['px'], parentPtcl['py'], parentPtcl['pz']])\n",
    "    parentEntryPosition = np.array([parentPtcl['x'], parentPtcl['y'], parentPtcl['z']])\n",
    "    \n",
    "    parentEndPosition = calc_intersect_OD_photon(parentPtcl)\n",
    "    \n",
    "    dx, dy, dz = parentEndPosition[0] - parentEntryPosition[0], parentEndPosition[1] - parentEntryPosition[1], parentEndPosition[2] - parentEntryPosition[2]\n",
    "    \n",
    "    #print(parentEntryPosition)\n",
    "    #print(parentEndPosition)\n",
    "    trackLength = np.sqrt(dx*dx+dy*dy+dz*dz)\n",
    "    \n",
    "    #Note now the muon has moved to it's final position\n",
    "    \n",
    "    photonsPerCm=100 #this is set by the physics in the Frank-Tamm formula\n",
    "    numPhotons = int(trackLength*photonsPerCm)\n",
    "    \n",
    "    photons = np.zeros(numPhotons, dtype=ptcl) #output array of photons, can't be parallelized with njit :(\n",
    "    #photons=np.zeros(numPhotons)\n",
    "    #assert 1==0\n",
    "    for i in prange(numPhotons):\n",
    "        \n",
    "        numStepsAway = np.random.rand()*trackLength #pick a random point on the track\n",
    "        \n",
    "        #photon position\n",
    "        photons[i]['x']=parentEntryPosition[0]+numStepsAway*parentPtcl['px'] \n",
    "        photons[i]['y']=  parentEntryPosition[1]+numStepsAway*parentPtcl['py']\n",
    "        photons[i]['z'] = parentEntryPosition[2]+numStepsAway*parentPtcl['pz']\n",
    "\n",
    "        momentum=np.array([parentPtcl['px'], parentPtcl['py'], parentPtcl['pz']])\n",
    "\n",
    "        #First, rotate relative to z axis by Cherenkov angle\n",
    "        c, s = np.cos(thetaRel), np.sin(thetaRel) #cos and sine\n",
    "        ux, uy, uz = np.cross(parentMomentum, [0.,0.,1.0]) #Need to rotate around axis out of page/into page\n",
    "        R = np.array([[c+ux*ux*(1.0-c), ux*uy*(1-c) - uz*s, ux*uz*(1-c) + uy*s], [uy*ux*(1-c)+uz*s, c+uy*uy *(1-c), uy*uz*(1-c)-ux*s], [uz*ux*(1-c) - uy*s, uz*uy*(1-c)+ux*s, c+uz*uz * (1-c) ]])#rotation matrix\n",
    "        momentum = R.dot(momentum)\n",
    "        #momentum= np.dot(R, momentum)\n",
    "\n",
    "        #Now rotate random amount of phi about axis of parent trajectory\n",
    "        phi=np.random.sample()*np.pi*2.0\n",
    "        c, s = np.cos(phi), np.sin(phi) #cos and sine\n",
    "        ux, uy, uz = parentPtcl['px'], parentPtcl['py'], parentPtcl['pz']\n",
    "        R = np.array([[c+ux*ux*(1.0-c), ux*uy*(1-c) - uz*s, ux*uz*(1-c) + uy*s], [uy*ux*(1-c)+uz*s, c+uy*uy *(1-c), uy*uz*(1-c)-ux*s], [uz*ux*(1-c) - uy*s, uz*uy*(1-c)+ux*s, c+uz*uz * (1-c) ]])#rotation matrix\n",
    "        momentum = R.dot(momentum)\n",
    "        \n",
    "        #Photon momentum set sow now leave track in a cherenkov cone \n",
    "        photons[i]['px'], photons[i]['py'], photons[i]['pz'] = momentum[0], momentum[1], momentum[2]\n",
    "        \n",
    "        #Deal with the intersection/photon hit here\n",
    "        calc_intersect_OD_photon(photons[i])\n",
    "        i+=1\n",
    "        \n",
    "    #Return the photon hit positions - I want just their initial positions\n",
    "    return photons"
   ]
  },
  {
   "cell_type": "code",
   "execution_count": 3,
   "metadata": {},
   "outputs": [],
   "source": [
    "#Define custom data type here for particles\n",
    "ptcl = np.dtype({'names':['x', 'y', 'z', 'px', 'py', 'pz', 'tracklength'], \n",
    "                 'formats':[np.double, np.double, np.double, np.double, np.double, np.double, np.double]})"
   ]
  },
  {
   "cell_type": "code",
   "execution_count": 12,
   "metadata": {},
   "outputs": [
    {
     "name": "stdout",
     "output_type": "stream",
     "text": [
      "(1., 0., 0., 10., 0., 0., 0.)\n"
     ]
    }
   ],
   "source": [
    "numMuons = 1\n",
    "muon = np.zeros(numMuons, dtype=ptcl)\n",
    "\n",
    "muon['x'] = 1.0\n",
    "\n",
    "muon['px'] = 10.0\n",
    "\n",
    "print(muon[0])"
   ]
  },
  {
   "cell_type": "code",
   "execution_count": 13,
   "metadata": {},
   "outputs": [
    {
     "ename": "NameError",
     "evalue": "name 'calc_intersect_OD_photon' is not defined",
     "output_type": "error",
     "traceback": [
      "\u001b[1;31m---------------------------------------------------------------------------\u001b[0m",
      "\u001b[1;31mNameError\u001b[0m                                 Traceback (most recent call last)",
      "\u001b[1;32m<ipython-input-13-fd78b1551c4b>\u001b[0m in \u001b[0;36m<module>\u001b[1;34m\u001b[0m\n\u001b[1;32m----> 1\u001b[1;33m \u001b[0mpropagateChere\u001b[0m\u001b[1;33m(\u001b[0m\u001b[0mmuon\u001b[0m\u001b[1;33m)\u001b[0m\u001b[1;33m\u001b[0m\u001b[1;33m\u001b[0m\u001b[0m\n\u001b[0m",
      "\u001b[1;32m<ipython-input-2-cf2d715eb6ad>\u001b[0m in \u001b[0;36mpropagateChere\u001b[1;34m(parentPtcl)\u001b[0m\n\u001b[0;32m      4\u001b[0m     \u001b[0mparentEntryPosition\u001b[0m \u001b[1;33m=\u001b[0m \u001b[0mnp\u001b[0m\u001b[1;33m.\u001b[0m\u001b[0marray\u001b[0m\u001b[1;33m(\u001b[0m\u001b[1;33m[\u001b[0m\u001b[0mparentPtcl\u001b[0m\u001b[1;33m[\u001b[0m\u001b[1;34m'x'\u001b[0m\u001b[1;33m]\u001b[0m\u001b[1;33m,\u001b[0m \u001b[0mparentPtcl\u001b[0m\u001b[1;33m[\u001b[0m\u001b[1;34m'y'\u001b[0m\u001b[1;33m]\u001b[0m\u001b[1;33m,\u001b[0m \u001b[0mparentPtcl\u001b[0m\u001b[1;33m[\u001b[0m\u001b[1;34m'z'\u001b[0m\u001b[1;33m]\u001b[0m\u001b[1;33m]\u001b[0m\u001b[1;33m)\u001b[0m\u001b[1;33m\u001b[0m\u001b[1;33m\u001b[0m\u001b[0m\n\u001b[0;32m      5\u001b[0m \u001b[1;33m\u001b[0m\u001b[0m\n\u001b[1;32m----> 6\u001b[1;33m     \u001b[0mparentEndPosition\u001b[0m \u001b[1;33m=\u001b[0m \u001b[0mcalc_intersect_OD_photon\u001b[0m\u001b[1;33m(\u001b[0m\u001b[0mparentPtcl\u001b[0m\u001b[1;33m)\u001b[0m\u001b[1;33m\u001b[0m\u001b[1;33m\u001b[0m\u001b[0m\n\u001b[0m\u001b[0;32m      7\u001b[0m \u001b[1;33m\u001b[0m\u001b[0m\n\u001b[0;32m      8\u001b[0m     \u001b[0mdx\u001b[0m\u001b[1;33m,\u001b[0m \u001b[0mdy\u001b[0m\u001b[1;33m,\u001b[0m \u001b[0mdz\u001b[0m \u001b[1;33m=\u001b[0m \u001b[0mparentEndPosition\u001b[0m\u001b[1;33m[\u001b[0m\u001b[1;36m0\u001b[0m\u001b[1;33m]\u001b[0m \u001b[1;33m-\u001b[0m \u001b[0mparentEntryPosition\u001b[0m\u001b[1;33m[\u001b[0m\u001b[1;36m0\u001b[0m\u001b[1;33m]\u001b[0m\u001b[1;33m,\u001b[0m \u001b[0mparentEndPosition\u001b[0m\u001b[1;33m[\u001b[0m\u001b[1;36m1\u001b[0m\u001b[1;33m]\u001b[0m \u001b[1;33m-\u001b[0m \u001b[0mparentEntryPosition\u001b[0m\u001b[1;33m[\u001b[0m\u001b[1;36m1\u001b[0m\u001b[1;33m]\u001b[0m\u001b[1;33m,\u001b[0m \u001b[0mparentEndPosition\u001b[0m\u001b[1;33m[\u001b[0m\u001b[1;36m2\u001b[0m\u001b[1;33m]\u001b[0m \u001b[1;33m-\u001b[0m \u001b[0mparentEntryPosition\u001b[0m\u001b[1;33m[\u001b[0m\u001b[1;36m2\u001b[0m\u001b[1;33m]\u001b[0m\u001b[1;33m\u001b[0m\u001b[1;33m\u001b[0m\u001b[0m\n",
      "\u001b[1;31mNameError\u001b[0m: name 'calc_intersect_OD_photon' is not defined"
     ]
    }
   ],
   "source": [
    "propagateChere_init(muon)"
   ]
  },
  {
   "cell_type": "code",
   "execution_count": null,
   "metadata": {},
   "outputs": [],
   "source": []
  }
 ],
 "metadata": {
  "kernelspec": {
   "display_name": "Python 3",
   "language": "python",
   "name": "python3"
  },
  "language_info": {
   "codemirror_mode": {
    "name": "ipython",
    "version": 3
   },
   "file_extension": ".py",
   "mimetype": "text/x-python",
   "name": "python",
   "nbconvert_exporter": "python",
   "pygments_lexer": "ipython3",
   "version": "3.8.5"
  }
 },
 "nbformat": 4,
 "nbformat_minor": 4
}
