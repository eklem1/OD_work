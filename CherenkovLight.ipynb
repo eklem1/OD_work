{
 "cells": [
  {
   "cell_type": "code",
   "execution_count": 1,
   "metadata": {},
   "outputs": [],
   "source": [
    "import numpy as np\n",
    "#from numpy.random import choice\n",
    "import matplotlib.pyplot as plt\n",
    "from stl import mesh\n",
    "from mpl_toolkits import mplot3d"
   ]
  },
  {
   "cell_type": "markdown",
   "metadata": {},
   "source": [
    "### Getting basic Cherenkov light source for chroma\n",
    "Based off of Soud's code at https://github.com/soudk/phys512/blob/master/project_cherenkov/NumbaCherenkov.ipynb"
   ]
  },
  {
   "cell_type": "code",
   "execution_count": 2,
   "metadata": {},
   "outputs": [
    {
     "data": {
      "image/png": "[encoded data removed]",
      "text/plain": [
       "<Figure size 432x288 with 1 Axes>"
      ]
     },
     "metadata": {
      "needs_background": "light"
     },
     "output_type": "display_data"
    }
   ],
   "source": [
    "#In eV\n",
    "energies = np.array([0.602, 0.689, 1.03,  1.926, 2.583, 2.845, 2.857, 3.124,3.457, 3.643, 3.812, 4.086, 4.511, 4.953, 5.474, 6.262, 7.000, 8.300, 10.00, 12.60])\n",
    "#Refractive index of water from Segelstein, David J. The complex refractive index of water. Diss. University of Missouri--Kansas City, 1981.\n",
    "n = np.array([1.303, 1.3120,   1.3239,   1.3313, 1.3358, 1.3376, 1.3376, 1.3392, 1.3423, 1.3442, 1.3460, 1.3486, 1.3540, 1.3619, 1.3723, 1.3960, 1.3960, 1.3960,1.3960, 1.3960])\n",
    "\n",
    "#plt.plot(energies, n)\n",
    "\n",
    "wavelengths = 1239.8/energies\n",
    "\n",
    "freq = 3e17/wavelengths\n",
    "\n",
    "#Only take the ~near visible range (where photomultiplier tubes are sensitive). \n",
    "#This is the tail of the Cherenkov emission spectrum.\n",
    "cut = [3,7]\n",
    "freq = freq[cut[0]:cut[1]]\n",
    "wavelengths=wavelengths[cut[0]:cut[1]]\n",
    "energies=energies[cut[0]:cut[1]]\n",
    "n=n[cut[0]:cut[1]]\n",
    "\n",
    "#radians, approx Cherenkov angle in optical (~0.5 degree precision)\n",
    "thetaRel = 0.733 \n",
    "\n",
    "plt.plot(wavelengths, n)\n",
    "plt.xlabel('photon wavelength (nm)')\n",
    "plt.ylabel('Real Index of Refraction')\n",
    "plt.show()"
   ]
  },
  {
   "cell_type": "code",
   "execution_count": 25,
   "metadata": {},
   "outputs": [],
   "source": [
    "#Define custom data type here for particles\n",
    "ptcl = np.dtype({'names':['x', 'y', 'z', 'px', 'py', 'pz', 'tracklength'], \n",
    "                 'formats':[np.double, np.double, np.double, np.double, np.double, np.double, np.double]})\n",
    "\n",
    "def unit_vector(vector):\n",
    "    \"\"\" Returns the unit vector of the vector.  \"\"\"\n",
    "    return vector / np.linalg.norm(vector)\n",
    "\n",
    "def angle_between(v1, v2):\n",
    "    \"\"\" Returns the angle in radians between vectors 'v1' and 'v2' \"\"\"\n",
    "    v1_u = unit_vector(v1)\n",
    "    v2_u = unit_vector(v2)\n",
    "    return np.arccos(np.clip(np.dot(v1_u, v2_u), -1.0, 1.0))\n",
    "\n",
    "def perpendicular_vector(vec):\n",
    "    if vec[1] == 0 and vec[2] == 0:\n",
    "        if vec[0] == 0:\n",
    "            raise ValueError('zero vector')\n",
    "        else:\n",
    "            return np.cross(vec, [0, 1, 0])\n",
    "    return np.cross(vec, [1, 0, 0])\n",
    "\n",
    "def perpendicular_vector(x):\n",
    "    \"\"\"Returns an arbitrary vector perpendicular to `x`.\"\"\"\n",
    "    a = np.zeros(3)\n",
    "    a[np.argmin(abs(x))] = 1\n",
    "    return np.cross(a,x)"
   ]
  },
  {
   "cell_type": "code",
   "execution_count": 26,
   "metadata": {},
   "outputs": [],
   "source": [
    "'''\n",
    "Give position, direction and length?\n",
    "then can pick n number of photons along that path like here\n",
    "\n",
    "- also momentum i guess - really I think I just want normalized momentum which is just direction???\n",
    "but maybe I do need the full value for energy/wavelength?\n",
    "'''\n",
    "\n",
    "\n",
    "def propagateChere_init(parentPtcl):\n",
    "    \n",
    "    parentMomentum = np.array([parentPtcl['px'], parentPtcl['py'], parentPtcl['pz']])\n",
    "    trackLength = parentPtcl['tracklength'] \n",
    "    parentMomentumUnit = parentMomentum/np.linalg.norm(parentMomentum) \n",
    "    #so we assume the distance is set by the trackLength, and should use parentMomentumUnit\n",
    "    # to calculate any distances traveled\n",
    "    \n",
    "    parentEntryPosition =  np.array([parentPtcl['x'], parentPtcl['y'], parentPtcl['z']])\n",
    "    \n",
    "    parentEndPosition = trackLength*parentMomentumUnit + parentEntryPosition\n",
    "        \n",
    "    dx, dy, dz = parentEndPosition - parentEntryPosition\n",
    "    \n",
    "    #print(parentEntryPosition)\n",
    "    #print(parentEndPosition)\n",
    "    \n",
    "    photonsPerCm= 10 #100 /cm --> 10 /mm #this is set by the physics in the Frank-Tamm formula\n",
    "    '''\n",
    "    you may want this number to fluctuate around ~100 and not be exactly 100 per cm, which would make \n",
    "    it more realistic. However, for long track lengths, I'm not sure if it makes too much of a difference\n",
    "    '''\n",
    "    \n",
    "    numPhotons = int(trackLength*photonsPerCm)\n",
    "    \n",
    "    photons = np.zeros(numPhotons, dtype=ptcl)\n",
    "    #photons=np.zeros(numPhotons)\n",
    "\n",
    "    #Soud used prange: 'Numba implements the ability to run loops in parallel'\n",
    "    for i in range(numPhotons):\n",
    "        \n",
    "        numStepsAway = np.random.rand()*trackLength #pick a random point on the track\n",
    "        \n",
    "        #photon position\n",
    "        photons[i]['x'] = parentEntryPosition[0]+numStepsAway*parentMomentumUnit[0]\n",
    "        photons[i]['y'] = parentEntryPosition[1]+numStepsAway*parentMomentumUnit[1]\n",
    "        photons[i]['z'] = parentEntryPosition[2]+numStepsAway*parentMomentumUnit[2]\n",
    "\n",
    "        momentum=np.array([parentPtcl['px'], parentPtcl['py'], parentPtcl['pz']])\n",
    "#         parentMomentum = np.array([parentPtcl['px'], parentPtcl['py'], parentPtcl['pz']])\n",
    "\n",
    "        #First, rotate relative to z axis by Cherenkov angle\n",
    "    # don't I want to rotate relative to the muon vector???\n",
    "        c, s = np.cos(thetaRel), np.sin(thetaRel) #cos and sine\n",
    "        \n",
    "        #this finds a vector perpendicular to the parentMomentum one (unless parentMomentum==[0.,0.,1.0])\n",
    "#         ux, uy, uz = np.cross(parentMomentum, [0.,0.,1.0]) #Need to rotate around axis out of page/into page\n",
    "        ux, uy, uz = perpendicular_vector(parentMomentumUnit)\n",
    "    \n",
    "        R = np.array([[c+ux*ux*(1.0-c), ux*uy*(1-c) - uz*s, ux*uz*(1-c) + uy*s], [uy*ux*(1-c)+uz*s, c+uy*uy *(1-c), \\\n",
    "                uy*uz*(1-c)-ux*s], [uz*ux*(1-c) - uy*s, uz*uy*(1-c)+ux*s, c+uz*uz * (1-c) ]])#rotation matrix\n",
    "\n",
    "        momentum = R.dot(momentum)\n",
    "        \n",
    "#         print( np.degrees(angle_between(parentMomentumUnit, momentum) ))\n",
    "\n",
    "        #Now rotate random amount of phi about axis of parent trajectory\n",
    "        phi=np.random.sample()*np.pi*2.0\n",
    "        c, s = np.cos(phi), np.sin(phi) #cos and sine\n",
    "        ux, uy, uz = parentPtcl['px'], parentPtcl['py'], parentPtcl['pz']\n",
    "        R = np.array([[c+ux*ux*(1.0-c), ux*uy*(1-c) - uz*s, ux*uz*(1-c) + uy*s], [uy*ux*(1-c)+uz*s, c+uy*uy *(1-c), uy*uz*(1-c)-ux*s], [uz*ux*(1-c) - uy*s, uz*uy*(1-c)+ux*s, c+uz*uz * (1-c) ]])#rotation matrix\n",
    "        momentum = R.dot(momentum)\n",
    "        \n",
    "#         print( np.degrees(angle_between(parentMomentum, momentum) ))\n",
    "        \n",
    "        #Photon momentum set so now leave track in a cherenkov cone \n",
    "        photons[i]['px'], photons[i]['py'], photons[i]['pz'] = momentum[0], momentum[1], momentum[2]\n",
    "        \n",
    "        #can get energy and therefore wavelength from momentum now here\n",
    "        \n",
    "        #Deal with the intersection/photon hit here\n",
    "#         calc_intersect_OD_photon(photons[i])\n",
    "#         i+=1\n",
    "        \n",
    "    #Return the photon hit positions - I want just their initial positions\n",
    "    return photons"
   ]
  },
  {
   "cell_type": "code",
   "execution_count": 27,
   "metadata": {},
   "outputs": [
    {
     "name": "stdout",
     "output_type": "stream",
     "text": [
      "[(1., 0., 0., 1., 0., -2., 2.)]\n"
     ]
    }
   ],
   "source": [
    "numMuons = 1\n",
    "muon = np.zeros(numMuons, dtype=ptcl)\n",
    "\n",
    "muon['x'] = 1.0 \n",
    "\n",
    "muon['px'] = 1.0\n",
    "muon['pz'] = -2.0\n",
    "\n",
    "muon['tracklength'] = 2.0\n",
    "\n",
    "print(muon)"
   ]
  },
  {
   "cell_type": "code",
   "execution_count": 28,
   "metadata": {},
   "outputs": [],
   "source": [
    "photons = propagateChere_init(muon[0])"
   ]
  },
  {
   "cell_type": "code",
   "execution_count": 29,
   "metadata": {},
   "outputs": [
    {
     "name": "stdout",
     "output_type": "stream",
     "text": [
      "[[ 1.          1.89442719]\n",
      " [ 0.          0.        ]\n",
      " [ 0.         -1.78885438]]\n"
     ]
    }
   ],
   "source": [
    "# print(len(photons))\n",
    "\n",
    "# photons['x']\n",
    "\n",
    "parentMomentum = np.array([muon[0]['px'], muon[0]['py'], muon[0]['pz']])\n",
    "trackLength = muon[0]['tracklength'] \n",
    "\n",
    "parentEntryPosition =  np.array([muon[0]['x'], muon[0]['y'], muon[0]['z']])\n",
    "\n",
    "parentEndPosition = trackLength*parentMomentum/np.linalg.norm(parentMomentum) + parentEntryPosition\n",
    "\n",
    "muonPath = np.array([parentEntryPosition, parentEndPosition]).T\n",
    "\n",
    "print(muonPath)"
   ]
  },
  {
   "cell_type": "code",
   "execution_count": 30,
   "metadata": {},
   "outputs": [
    {
     "name": "stdout",
     "output_type": "stream",
     "text": [
      "[[  2.96065894  -0.13145798   7.75031618]\n",
      " [  0.85547421  -0.52674365   1.3182198 ]\n",
      " [-12.05860624  -6.73892235 -11.96232406]]\n",
      "[84.89420179 87.48593067 84.02444977]\n"
     ]
    }
   ],
   "source": [
    "photonMomentum = np.array([photons['px'], photons['py'], photons['pz']])\n",
    "print(photonMomentum[:, :3])\n",
    "\n",
    "photonMomentumUnit = photonMomentum/np.linalg.norm(photonMomentum)\n",
    "\n",
    "angle = np.degrees(angle_between(parentMomentum, photonMomentum) )\n",
    "print(angle[:3])"
   ]
  },
  {
   "cell_type": "code",
   "execution_count": 31,
   "metadata": {},
   "outputs": [
    {
     "data": {
      "image/png": "[encoded data removed]",
      "text/plain": [
       "<Figure size 504x504 with 1 Axes>"
      ]
     },
     "metadata": {
      "needs_background": "light"
     },
     "output_type": "display_data"
    }
   ],
   "source": [
    "fig = plt.figure(figsize=(7,7))\n",
    "axes = mplot3d.Axes3D(fig)\n",
    "\n",
    "plt.title(\"Muon and Intial Cherenkov photon directions\")#, pad=-1)\n",
    "\n",
    "\n",
    "axes.plot3D(muonPath[0][0], muonPath[1][0], muonPath[2][0], 'red', marker='o')\n",
    "\n",
    "axes.plot3D(muonPath[0], muonPath[1], muonPath[2], 'red')#, alpha=0.4)\n",
    "\n",
    "p = axes.scatter3D(photons['x'], photons['y'], photons['z'], s=5)# , c=angle, cmap='viridis') #, vmin=0, vmax=ELs_max)\n",
    "# Q = axes.quiver(photons['x'], photons['y'], photons['z'],photons['px'], photons['py'], photons['pz'], \\\n",
    "#                 length=0.0005, alpha=0.5, arrow_length_ratio=0)#, normalize=True, alpha=0.5)\n",
    "\n",
    "Q = axes.quiver(photons['x'], photons['y'], photons['z'],photonMomentumUnit[0], photonMomentumUnit[1], photonMomentumUnit[2], \\\n",
    "                length=1, alpha=0.5, arrow_length_ratio=0.0)#, normalize=True, alpha=0.5)\n",
    "    \n",
    "# addGeometry(axes, parts=['PMTconnect','PMTGlass', 'OC'])  #'WT' ,\n",
    "\n",
    "# axes.set_xlim3d(-300, 300)\n",
    "# axes.set_ylim3d(-300, 300)\n",
    "# axes.set_zlim3d(-7400, -6930)\n",
    "\n",
    "axes.set_xlabel(\"X [mm]\")\n",
    "axes.set_ylabel(\"Y [mm]\")\n",
    "axes.set_zlabel(\"Z [mm]\")\n",
    "axes.xaxis.labelpad=20\n",
    "axes.yaxis.labelpad=15\n",
    "# axes.zaxis.labelpad=15\n",
    "\n",
    "# axes.legend()\n",
    "\n",
    "#change angle of view - (elevation, azimuth) angles in degrees\n",
    "# ‘elev’ stores the elevation angle in the z plane. ‘azim’ stores the azimuth angle in the x,y plane.\n",
    "axes.view_init(10, 90)\n",
    "\n",
    "# 0, 90 - XZ plane; 90, 90 - top view\n",
    "\n",
    "plt.show()"
   ]
  },
  {
   "cell_type": "code",
   "execution_count": 17,
   "metadata": {},
   "outputs": [
    {
     "name": "stdout",
     "output_type": "stream",
     "text": [
      "[[0. 0. 0.]\n",
      " [0. 0. 0.]\n",
      " [0. 0. 0.]\n",
      " [0. 0. 0.]\n",
      " [0. 0. 0.]]\n"
     ]
    }
   ],
   "source": [
    "x = 5\n",
    "photonsPosition = np.zeros((x, 3))\n",
    "print(photonsPosition)"
   ]
  },
  {
   "cell_type": "code",
   "execution_count": 42,
   "metadata": {},
   "outputs": [
    {
     "name": "stdout",
     "output_type": "stream",
     "text": [
      "[ 0.  0. -1.]\n"
     ]
    }
   ],
   "source": [
    "Generator = \"CherenkovSimple; [0,0,-1] ; 100\"\n",
    "Momentum = Generator.split(';')[1]\n",
    "Momentum = Momentum.split('[')[1].split(']')[0]\n",
    "Momentum = np.array([float(i) for i in Momentum.split(',')])\n",
    "\n",
    "print(Momentum)"
   ]
  },
  {
   "cell_type": "code",
   "execution_count": null,
   "metadata": {},
   "outputs": [],
   "source": []
  }
 ],
 "metadata": {
  "kernelspec": {
   "display_name": "Python 3",
   "language": "python",
   "name": "python3"
  },
  "language_info": {
   "codemirror_mode": {
    "name": "ipython",
    "version": 3
   },
   "file_extension": ".py",
   "mimetype": "text/x-python",
   "name": "python",
   "nbconvert_exporter": "python",
   "pygments_lexer": "ipython3",
   "version": "3.8.5"
  }
 },
 "nbformat": 4,
 "nbformat_minor": 4
}
