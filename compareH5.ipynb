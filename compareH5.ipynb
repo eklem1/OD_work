{
 "cells": [
  {
   "cell_type": "code",
   "execution_count": null,
   "metadata": {},
   "outputs": [],
   "source": []
  },
  {
   "cell_type": "code",
   "execution_count": 1,
   "metadata": {},
   "outputs": [],
   "source": [
    "import tables, glob, os, time, sys\n",
    "import numpy as np \n",
    "import matplotlib.pyplot as plt \n",
    "from mpl_toolkits.mplot3d import axes3d, Axes3D\n",
    "import matplotlib.colors as colors\n",
    "from scipy.stats import norm\n",
    "\n",
    "from stl import mesh\n",
    "from mpl_toolkits import mplot3d\n",
    "import scipy.constants as con"
   ]
  },
  {
   "cell_type": "code",
   "execution_count": 2,
   "metadata": {},
   "outputs": [],
   "source": [
    "def ReadFile(Keys, File): \n",
    "    if not os.path.isfile(File):\n",
    "        print('no')\n",
    "        return\n",
    "    else: \n",
    "        Data = {}\n",
    "        try:\n",
    "            with tables.open_file(File, mode=\"r\") as f: \n",
    "                for Key in Keys:    \n",
    "                    data = f.root._f_get_child(Key)._f_get_child(Key).read()\n",
    "                    if data is None:\n",
    "                        print(data)\n",
    "                    Data[Key] = data\n",
    "            if Data is None: \n",
    "                print(Data)\n",
    "            return(Data)\n",
    "        except:\n",
    "            return "
   ]
  },
  {
   "cell_type": "code",
   "execution_count": 3,
   "metadata": {},
   "outputs": [],
   "source": [
    "def GetPhotonFlags(Flags):\n",
    "    PhotonFlags = {}\n",
    "    PhotonFlags['NO_HIT'] = (Flags & (0x1 << 0)).astype(bool)   \n",
    "    PhotonFlags['BULK_ABSORB'] = (Flags & (0x1 << 1)).astype(bool)   \n",
    "    PhotonFlags['SURFACE_DETECT'] = (Flags & (0x1 << 2)).astype(bool)   \n",
    "    PhotonFlags['SURFACE_ABSORB'] = (Flags & (0x1 << 3)).astype(bool)   \n",
    "    PhotonFlags['RAYLEIGH_SCATTER'] = (Flags & (0x1 << 4)).astype(bool)   \n",
    "    PhotonFlags['REFLECT_DIFFUSE'] = (Flags & (0x1 << 5)).astype(bool)   \n",
    "    PhotonFlags['REFLECT_SPECULAR'] = (Flags & (0x1 << 6)).astype(bool)    \n",
    "    PhotonFlags['SURFACE_REEMIT'] = (Flags & (0x1 << 7)).astype(bool)    \n",
    "    PhotonFlags['SURFACE_TRANSMIT'] = (Flags & (0x1 << 8)).astype(bool)    \n",
    "    PhotonFlags['BULK_REEMIT'] = (Flags & (0x1 << 9)).astype(bool)   \n",
    "    PhotonFlags['MATERIAL_REFL'] = (Flags & (0x1 << 10)).astype(bool)  \n",
    "    PhotonFlags['NAN_ABORT'] = (Flags & (0x1 << 31)).astype(bool)  \n",
    "    return PhotonFlags"
   ]
  },
  {
   "cell_type": "code",
   "execution_count": 23,
   "metadata": {},
   "outputs": [],
   "source": [
    "allKeys = ['NumDetected', 'ChannelCharges', 'ChannelIDs', 'NumHitChannels', \n",
    "                  'IncidentAngles', 'Flags', 'LastHitTriangle', 'FinalPosition', 'InitialPosition', 'DetectedPos', \n",
    "                  'PhotonWavelength', 'DetectorHit', 'PhotonTime']\n",
    "\n",
    "File1 = \"h5_files/chroma_nEXO_OD_OD_fullAbs_WT_18_210726_105550_r2172.h5\"\n",
    "File2 = \"h5_files/chroma_nEXO_OD_OD_fullAbs_WT_18_210726_105550_r3275.h5\"\n",
    "File3 = \"h5_files/chroma_nEXO_OD_OD_fullAbs_WT_18_210726_105550_r5066.h5\"\n",
    "\n",
    "Data1 = ReadFile(allKeys, File1)\n",
    "Data2 = ReadFile(allKeys, File2)\n",
    "Data3 = ReadFile(allKeys, File3)\n",
    "\n",
    "AllData = [Data1, Data2, Data3]"
   ]
  },
  {
   "cell_type": "code",
   "execution_count": 27,
   "metadata": {},
   "outputs": [
    {
     "name": "stdout",
     "output_type": "stream",
     "text": [
      "dict_keys(['NumDetected', 'ChannelCharges', 'ChannelIDs', 'NumHitChannels', 'IncidentAngles', 'Flags', 'LastHitTriangle', 'FinalPosition', 'InitialPosition', 'DetectedPos', 'PhotonWavelength', 'DetectorHit', 'PhotonTime'])\n"
     ]
    }
   ],
   "source": [
    "print(Data1.keys())\n"
   ]
  },
  {
   "cell_type": "code",
   "execution_count": 22,
   "metadata": {},
   "outputs": [
    {
     "name": "stdout",
     "output_type": "stream",
     "text": [
      "[546.087   473.51172 530.5351  476.62207 377.0903 ]\n",
      "[442.40802 363.61203 556.45483 291.0368  514.9833 ]\n",
      "[334.58194 317.99332 500.46823 352.20737 337.69232]\n"
     ]
    }
   ],
   "source": [
    "# print(Data1['NumDetected']\n",
    "\n",
    "for D in AllData:\n",
    "      #print(\"total number created:\", len(D['PhotonWavelength']), \", total number detected:\", np.sum(D['NumDetected']), \n",
    "       #     \", efficency:\", np.sum(D['NumDetected'])/len(D['PhotonWavelength'])*100 )\n",
    "    print(D['PhotonWavelength'][:5])"
   ]
  },
  {
   "cell_type": "code",
   "execution_count": 11,
   "metadata": {},
   "outputs": [
    {
     "data": {
      "image/png": "[encoded data removed]",
      "text/plain": [
       "<Figure size 864x288 with 2 Axes>"
      ]
     },
     "metadata": {
      "needs_background": "light"
     },
     "output_type": "display_data"
    }
   ],
   "source": [
    "f, axs = plt.subplots(nrows=1, ncols=2, figsize=(12,4))\n",
    "\n",
    "for D in AllData:\n",
    "    PhotonTiming = D['PhotonTime'] \n",
    "    PhotonFlags_flip = GetPhotonFlags(D['Flags'])\n",
    "    HitTimes_detect = PhotonTiming[PhotonFlags_flip['SURFACE_DETECT']]\n",
    "\n",
    "    axs[0].hist(PhotonTiming, bins=200)\n",
    "    axs[1].hist(HitTimes_detect, bins=200)\n",
    "    \n",
    "axs[0].set_xlabel(\"Time [ns]\")\n",
    "axs[0].set_ylabel(\"Number of photons\")\n",
    "axs[0].set_title(\"All Photons\")\n",
    "\n",
    "axs[1].set_xlabel(\"Time [ns]\")\n",
    "axs[1].set_ylabel(\"Number of photons\")\n",
    "axs[1].set_title(\"Detected Photons\")\n",
    "plt.show()"
   ]
  },
  {
   "cell_type": "code",
   "execution_count": null,
   "metadata": {},
   "outputs": [],
   "source": []
  }
 ],
 "metadata": {
  "kernelspec": {
   "display_name": "Python 3",
   "language": "python",
   "name": "python3"
  },
  "language_info": {
   "codemirror_mode": {
    "name": "ipython",
    "version": 3
   },
   "file_extension": ".py",
   "mimetype": "text/x-python",
   "name": "python",
   "nbconvert_exporter": "python",
   "pygments_lexer": "ipython3",
   "version": "3.8.3"
  }
 },
 "nbformat": 4,
 "nbformat_minor": 4
}
