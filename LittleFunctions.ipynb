{
 "cells": [
  {
   "cell_type": "code",
   "execution_count": null,
   "metadata": {},
   "outputs": [],
   "source": [
    "import numpy as np\n",
    "import matplotlib.pyplot as plt"
   ]
  },
  {
   "cell_type": "code",
   "execution_count": 1,
   "metadata": {},
   "outputs": [],
   "source": [
    "import os\n",
    "# ODModel_SimulationModelUpdatedCryostat v13_BeamSupport-1-1_.stl"
   ]
  },
  {
   "cell_type": "markdown",
   "metadata": {},
   "source": [
    "### Rename STL files from Fusion"
   ]
  },
  {
   "cell_type": "code",
   "execution_count": 2,
   "metadata": {},
   "outputs": [],
   "source": [
    "# path = 'Documents/OD_summer/CAD Models'\n",
    "path = 'C:/Users/Emma/Documents/OD_summer/CAD Models/V1/'\n",
    "\n",
    "# os.rename(r'file path\\OLD file name.file type',r'file path\\NEW file name.file type')"
   ]
  },
  {
   "cell_type": "code",
   "execution_count": null,
   "metadata": {},
   "outputs": [],
   "source": [
    "\n",
    "for filename in os.listdir(path):\n",
    "    if filename.endswith(\".stl\"): \n",
    "#         print(filename)\n",
    "        x = filename.split('_')\n",
    "    \n",
    "        if \"WT\" in filename:\n",
    "            old = filename\n",
    "            new = x[0] + \"_\" + x[5] + \"_\" + x[-1]\n",
    "\n",
    "#             print(r\"{}{}\".format(path, new))\n",
    "        else:\n",
    "            old = filename\n",
    "            new = x[0] + \"_\" + x[2] + x[3]\n",
    "\n",
    "#             print(r\"{}{}\".format(path, new))\n",
    "        \n",
    "        os.rename(r\"{}{}\".format(path, old),r\"{}{}\".format(path, new))\n",
    "        continue\n",
    "    \n",
    "    else:\n",
    "        continue"
   ]
  },
  {
   "cell_type": "code",
   "execution_count": null,
   "metadata": {},
   "outputs": [],
   "source": []
  }
 ],
 "metadata": {
  "kernelspec": {
   "display_name": "Python 3",
   "language": "python",
   "name": "python3"
  },
  "language_info": {
   "codemirror_mode": {
    "name": "ipython",
    "version": 3
   },
   "file_extension": ".py",
   "mimetype": "text/x-python",
   "name": "python",
   "nbconvert_exporter": "python",
   "pygments_lexer": "ipython3",
   "version": "3.8.5"
  }
 },
 "nbformat": 4,
 "nbformat_minor": 4
}
