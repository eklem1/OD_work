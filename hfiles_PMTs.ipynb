{
 "cells": [
  {
   "cell_type": "code",
   "execution_count": 2,
   "metadata": {},
   "outputs": [],
   "source": [
    "import tables, glob, os, time, sys\n",
    "import numpy as np \n",
    "import matplotlib.pyplot as plt \n",
    "from mpl_toolkits.mplot3d import axes3d, Axes3D\n",
    "import matplotlib.colors as colors\n",
    "from scipy.stats import norm\n",
    "\n",
    "from stl import mesh\n",
    "from mpl_toolkits import mplot3d\n",
    "import scipy.constants as con"
   ]
  },
  {
   "cell_type": "code",
   "execution_count": 3,
   "metadata": {},
   "outputs": [],
   "source": [
    "def ReadFile(Keys, File): \n",
    "    if not os.path.isfile(File):\n",
    "        print('no')\n",
    "        return\n",
    "    else: \n",
    "        Data = {}\n",
    "        try:\n",
    "            with tables.open_file(File, mode=\"r\") as f: \n",
    "                for Key in Keys:    \n",
    "                    data = f.root._f_get_child(Key)._f_get_child(Key).read()\n",
    "                    if data is None:\n",
    "                        print(data)\n",
    "                    Data[Key] = data\n",
    "            if Data is None: \n",
    "                print(Data)\n",
    "            return(Data)\n",
    "        except:\n",
    "            return "
   ]
  },
  {
   "cell_type": "code",
   "execution_count": 4,
   "metadata": {},
   "outputs": [],
   "source": [
    "def GetPhotonFlags(Flags):\n",
    "    PhotonFlags = {}\n",
    "    PhotonFlags['NO_HIT'] = (Flags & (0x1 << 0)).astype(bool)   \n",
    "    PhotonFlags['BULK_ABSORB'] = (Flags & (0x1 << 1)).astype(bool)   \n",
    "    PhotonFlags['SURFACE_DETECT'] = (Flags & (0x1 << 2)).astype(bool)   \n",
    "    PhotonFlags['SURFACE_ABSORB'] = (Flags & (0x1 << 3)).astype(bool)   \n",
    "    PhotonFlags['RAYLEIGH_SCATTER'] = (Flags & (0x1 << 4)).astype(bool)   \n",
    "    PhotonFlags['REFLECT_DIFFUSE'] = (Flags & (0x1 << 5)).astype(bool)   \n",
    "    PhotonFlags['REFLECT_SPECULAR'] = (Flags & (0x1 << 6)).astype(bool)    \n",
    "    PhotonFlags['SURFACE_REEMIT'] = (Flags & (0x1 << 7)).astype(bool)    \n",
    "    PhotonFlags['SURFACE_TRANSMIT'] = (Flags & (0x1 << 8)).astype(bool)    \n",
    "    PhotonFlags['BULK_REEMIT'] = (Flags & (0x1 << 9)).astype(bool)   \n",
    "    PhotonFlags['MATERIAL_REFL'] = (Flags & (0x1 << 10)).astype(bool)  \n",
    "    PhotonFlags['NAN_ABORT'] = (Flags & (0x1 << 31)).astype(bool)  \n",
    "    return PhotonFlags"
   ]
  },
  {
   "cell_type": "code",
   "execution_count": 47,
   "metadata": {},
   "outputs": [],
   "source": [
    "allKeys = ['NumDetected', 'ChannelCharges', 'ChannelIDs', 'NumHitChannels', \n",
    "                  'IncidentAngles', 'Flags', 'LastHitTriangle', 'FinalPosition', 'InitialPosition', 'DetectedPos', \n",
    "                  'PhotonWavelength', 'PhotonTime', 'DetectorHit']\n",
    "\n",
    "# Keys1 = ['Origin', 'LastHitTriangle', 'IncidentAngles', 'DetectorHit', 'Flags', 'FinalPosition', 'NumDetected', \n",
    "#          'InitialPosition', 'DetectedPos', 'PhotonWavelength']\n",
    "\n",
    "#10 muons, 70 PMTs, QE on - trying to get channel hit time\n",
    "File1 = \"h5_files/chroma_nEXO_OD_OD_70PMT_QE_210719_143945_r1707.h5\"\n",
    "#same but with photonTime variables\n",
    "File1 = \"h5_files/chroma_nEXO_OD_OD_70PMT_QE_210719_163329_r1658.h5\"\n",
    "\n",
    "Data1 = ReadFile(allKeys, File1)"
   ]
  },
  {
   "cell_type": "code",
   "execution_count": 48,
   "metadata": {},
   "outputs": [
    {
     "name": "stdout",
     "output_type": "stream",
     "text": [
      "dict_keys(['NumDetected', 'ChannelCharges', 'ChannelIDs', 'NumHitChannels', 'IncidentAngles', 'Flags', 'LastHitTriangle', 'FinalPosition', 'InitialPosition', 'DetectedPos', 'PhotonWavelength', 'PhotonTime', 'DetectorHit'])\n"
     ]
    }
   ],
   "source": [
    "print(Data1.keys())\n",
    "\n",
    "# for var in Data1.keys():\n",
    "#     print(var, \"- number of entries:\", len(Data1[var]))\n",
    "#     print(\"     \", Data1[var], '\\n')"
   ]
  },
  {
   "cell_type": "markdown",
   "metadata": {},
   "source": [
    "## Looking at photon paths"
   ]
  },
  {
   "cell_type": "code",
   "execution_count": 49,
   "metadata": {},
   "outputs": [],
   "source": [
    "I_pos = Data1['InitialPosition'].T\n",
    "f_pos = Data1['FinalPosition'].T  \n",
    "d_pos = Data1['DetectedPos'].T  "
   ]
  },
  {
   "cell_type": "code",
   "execution_count": null,
   "metadata": {},
   "outputs": [],
   "source": [
    "fig = plt.figure(figsize=(7,7))\n",
    "axes = mplot3d.Axes3D(fig)\n",
    "\n",
    "axes.scatter3D(I_pos[0], I_pos[1], I_pos[2], 'blue', label='intial', s=0.9)\n",
    "# axes.scatter3D(f_pos[0], f_pos[1], f_pos[2], 'red', alpha=0.1, s=0.6, label='final')\n",
    "\n",
    "axes.scatter3D(d_pos[0], d_pos[1], d_pos[2], 'orange', alpha=0.1, s=0.6, label='detected')\n",
    "\n",
    "# axes.set_xlim3d(-6000, 6000)\n",
    "# axes.set_ylim3d(-6000, 6000)\n",
    "# axes.set_zlim3d(-7800, +6730)\n",
    "\n",
    "axes.set_xlabel(\"X [mm]\")\n",
    "axes.set_ylabel(\"Y [mm]\")\n",
    "axes.set_zlabel(\"Z [mm]\")\n",
    "axes.xaxis.labelpad=20\n",
    "axes.yaxis.labelpad=15\n",
    "# axes.zaxis.labelpad=15\n",
    "\n",
    "lgnd = axes.legend()\n",
    "\n",
    "#change the marker size manually for both lines\n",
    "for L in lgnd.legendHandles:\n",
    "    L._sizes = [30]\n",
    "    L.set_alpha(1)\n",
    "    \n",
    "#change angle of view - (elevation, azimuth) angles in degrees\n",
    "# ‘elev’ stores the elevation angle in the z plane. ‘azim’ stores the azimuth angle in the x,y plane.\n",
    "axes.view_init(0, 30)\n",
    "\n",
    "# 0, 90 - XZ plane; 90, 90 - top view\n",
    "\n",
    "plt.show()"
   ]
  },
  {
   "cell_type": "markdown",
   "metadata": {},
   "source": [
    "## Looking at PMTs with Channel data"
   ]
  },
  {
   "cell_type": "code",
   "execution_count": 51,
   "metadata": {},
   "outputs": [
    {
     "name": "stdout",
     "output_type": "stream",
     "text": [
      "dict_keys(['NumDetected', 'ChannelCharges', 'ChannelIDs', 'NumHitChannels', 'IncidentAngles', 'Flags', 'LastHitTriangle', 'FinalPosition', 'InitialPosition', 'DetectedPos', 'PhotonWavelength', 'PhotonTime', 'DetectorHit'])\n",
      "[ 1606 12042  6314  2232  7939  1279  2777  1764 10522  4741]\n",
      "51216\n"
     ]
    }
   ],
   "source": [
    "print(Data1.keys())\n",
    "\n",
    "print(Data1['NumDetected'])\n",
    "print(np.sum(Data1['NumDetected']))"
   ]
  },
  {
   "cell_type": "code",
   "execution_count": 52,
   "metadata": {},
   "outputs": [
    {
     "name": "stdout",
     "output_type": "stream",
     "text": [
      "698\n",
      "698\n"
     ]
    }
   ],
   "source": [
    "#for each photoh hit, records which PMT is hit\n",
    "ChannelIDs = Data1['ChannelIDs']\n",
    "print(len(ChannelIDs))\n",
    "\n",
    "#total number of channels hit for each muon (so max here is the total number of PMTs used)\n",
    "NumHitChannels = Data1['NumHitChannels']\n",
    "print(np.sum(Data1['NumHitChannels']))\n",
    "# ChannelIDs"
   ]
  },
  {
   "cell_type": "code",
   "execution_count": 53,
   "metadata": {},
   "outputs": [
    {
     "data": {
      "image/png": "[encoded data removed]",
      "text/plain": [
       "<Figure size 504x504 with 1 Axes>"
      ]
     },
     "metadata": {
      "needs_background": "light"
     },
     "output_type": "display_data"
    }
   ],
   "source": [
    "PMTHit_pos = Data1['DetectorHit'].T\n",
    "fig = plt.figure(figsize=(7,7))\n",
    "axes = mplot3d.Axes3D(fig)\n",
    "\n",
    "axes.scatter3D(PMTHit_pos[0], PMTHit_pos[1], PMTHit_pos[2], 'blue')\n",
    "\n",
    "axes.set_xlabel(\"X [mm]\")\n",
    "axes.set_ylabel(\"Y [mm]\")\n",
    "axes.set_zlabel(\"Z [mm]\")\n",
    "axes.xaxis.labelpad=20\n",
    "axes.yaxis.labelpad=15\n",
    "# axes.zaxis.labelpad=15\n",
    "\n",
    "#change angle of view - (elevation, azimuth) angles in degrees\n",
    "# ‘elev’ stores the elevation angle in the z plane. ‘azim’ stores the azimuth angle in the x,y plane.\n",
    "axes.view_init(0, 20)\n",
    "\n",
    "# 0, 90 - XZ plane; 90, 90 - top views\n",
    "\n",
    "plt.show()"
   ]
  },
  {
   "cell_type": "code",
   "execution_count": 56,
   "metadata": {},
   "outputs": [
    {
     "name": "stdout",
     "output_type": "stream",
     "text": [
      "2394861\n"
     ]
    },
    {
     "data": {
      "image/png": "[encoded data removed]",
      "text/plain": [
       "<Figure size 432x288 with 1 Axes>"
      ]
     },
     "metadata": {
      "needs_background": "light"
     },
     "output_type": "display_data"
    }
   ],
   "source": [
    "#all photon wavelengths\n",
    "# HitTimes = Data1['ChannelTimes'] \n",
    "HitTimes = Data1['PhotonTime'] \n",
    "\n",
    "print(len(HitTimes))\n",
    "\n",
    "plt.hist(HitTimes, bins=200)\n",
    "plt.xlabel(\"Time [ns]\")\n",
    "plt.ylabel(\"Number of photons\")\n",
    "plt.show() "
   ]
  },
  {
   "cell_type": "code",
   "execution_count": null,
   "metadata": {},
   "outputs": [],
   "source": []
  }
 ],
 "metadata": {
  "kernelspec": {
   "display_name": "Python 3",
   "language": "python",
   "name": "python3"
  },
  "language_info": {
   "codemirror_mode": {
    "name": "ipython",
    "version": 3
   },
   "file_extension": ".py",
   "mimetype": "text/x-python",
   "name": "python",
   "nbconvert_exporter": "python",
   "pygments_lexer": "ipython3",
   "version": "3.8.3"
  }
 },
 "nbformat": 4,
 "nbformat_minor": 4
}
