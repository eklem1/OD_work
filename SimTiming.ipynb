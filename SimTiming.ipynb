{
 "cells": [
  {
   "cell_type": "code",
   "execution_count": 6,
   "metadata": {},
   "outputs": [],
   "source": [
    "import numpy as np\n",
    "import matplotlib.pyplot as plt\n",
    "from mpl_toolkits import mplot3d"
   ]
  },
  {
   "cell_type": "markdown",
   "metadata": {},
   "source": [
    "## Output timing"
   ]
  },
  {
   "cell_type": "code",
   "execution_count": 7,
   "metadata": {},
   "outputs": [],
   "source": [
    "#Running on mcgill exo-sim computer\n",
    "Times1muon = np.array([0.2715773582458496, 0.06737828254699707, 0.34700608253479004, 0.03980374336242676, \n",
    "                       0.18545746803283691, 0.32816028594970703, 0.06272673606872559, 0.09904670715332031, \n",
    "                       0.14532041549682617, 0.366605281829834])\n",
    "\n",
    "NPhotons = np.array([505716, 154856, 710178, 96100, 409380, 690980, 141014, 212768, 318323, 759628])\n",
    "\n",
    "timePropogate = np.array([[19.148869276046753, 505716], [25.81196641921997, 154856], [52.645209074020386, 710178], \n",
    "                          [56.98507881164551, 96100], [73.79302549362183, 409380], [95.49787139892578, 690980], \n",
    "                          [101.54513549804688, 141014], [110.33386301994324, 212768], [122.97128772735596, 318323], \n",
    "                          [150.03152585029602, 759628]])"
   ]
  },
  {
   "cell_type": "code",
   "execution_count": 8,
   "metadata": {},
   "outputs": [
    {
     "name": "stdout",
     "output_type": "stream",
     "text": [
      "Generation: photons / sec\n",
      "2159318.386472367\n",
      "Propogation + saving: photons / sec\n",
      "7133.742435158277\n"
     ]
    }
   ],
   "source": [
    "print(\"Generation: photons / sec\")\n",
    "# print(NPhotons/Times1muon)\n",
    "print(np.average(NPhotons/Times1muon))\n",
    "\n",
    "print(\"Propogation + saving: photons / sec\")\n",
    "# print(timePropogate[:,1]/timePropogate[:,0])\n",
    "print(np.average(timePropogate[:,1]/timePropogate[:,0]))"
   ]
  },
  {
   "cell_type": "code",
   "execution_count": 9,
   "metadata": {},
   "outputs": [],
   "source": [
    "#running on SDF\n",
    "Times1muon_sdf =  np.array([[0.17302536964416504, 346908], [0.042142629623413086, 106227], [0.22923517227172852, 487164], \n",
    "                            [0.025715112686157227, 65922], [0.11535477638244629, 280824], [0.21465229988098145, 473994], \n",
    "                            [0.03776216506958008, 96732], [0.05727672576904297, 145954], [0.08711624145507812, 218361], \n",
    "                            [0.24184536933898926, 521086]])\n",
    "timePropogate_sdf =  np.array([[1.1320412158966064, 346908], [1.2576305866241455, 106227], [1.8502588272094727, 487164], \n",
    "                               [1.9441237449645996, 65922], [2.344022750854492, 280824], [2.9176430702209473, 473994], \n",
    "                               [3.0515291690826416, 96732], [3.237632989883423, 145954], [3.49123215675354, 218361], \n",
    "                               [4.16609001159668, 521086]])\n"
   ]
  },
  {
   "cell_type": "code",
   "execution_count": 10,
   "metadata": {},
   "outputs": [
    {
     "name": "stdout",
     "output_type": "stream",
     "text": [
      "Generation: photons / sec\n",
      "2362797.1974020926\n",
      "Propogation + saving: photons / sec\n",
      "123477.96562099196\n"
     ]
    }
   ],
   "source": [
    "print(\"Generation: photons / sec\")\n",
    "# print(Times1muon_sdf[:,1]/Times1muon_sdf[:,0])\n",
    "print(np.average(Times1muon_sdf[:,1]/Times1muon_sdf[:,0]))\n",
    "\n",
    "print(\"Propogation + saving: photons / sec\")\n",
    "# print(timePropogate_sdf[:,1]/timePropogate_sdf[:,0])\n",
    "print(np.average(timePropogate_sdf[:,1]/timePropogate_sdf[:,0]))"
   ]
  },
  {
   "cell_type": "code",
   "execution_count": null,
   "metadata": {},
   "outputs": [],
   "source": []
  }
 ],
 "metadata": {
  "kernelspec": {
   "display_name": "Python 3",
   "language": "python",
   "name": "python3"
  },
  "language_info": {
   "codemirror_mode": {
    "name": "ipython",
    "version": 3
   },
   "file_extension": ".py",
   "mimetype": "text/x-python",
   "name": "python",
   "nbconvert_exporter": "python",
   "pygments_lexer": "ipython3",
   "version": "3.8.3"
  }
 },
 "nbformat": 4,
 "nbformat_minor": 4
}
