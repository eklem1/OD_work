{
 "cells": [
  {
   "cell_type": "code",
   "execution_count": 5,
   "metadata": {},
   "outputs": [
    {
     "name": "stdout",
     "output_type": "stream",
     "text": [
      "The autoreload extension is already loaded. To reload it, use:\n",
      "  %reload_ext autoreload\n"
     ]
    }
   ],
   "source": [
    "import numpy as np\n",
    "import matplotlib.pyplot as plt\n",
    "import LittleFunction\n",
    "\n",
    "%load_ext autoreload\n",
    "%autoreload 2"
   ]
  },
  {
   "cell_type": "code",
   "execution_count": 6,
   "metadata": {},
   "outputs": [],
   "source": [
    "import os\n",
    "# ODModel_SimulationModelUpdatedCryostat v13_BeamSupport-1-1_.stl"
   ]
  },
  {
   "cell_type": "markdown",
   "metadata": {},
   "source": [
    "### Rename STL files from Fusion"
   ]
  },
  {
   "cell_type": "code",
   "execution_count": 11,
   "metadata": {},
   "outputs": [],
   "source": [
    "# path = 'Documents/OD_summer/CAD Models'\n",
    "# path = 'C:/Users/Emma/Documents/OD_summer/CAD Models/V1/'\n",
    "\n",
    "path = 'C:/Users/Emma/Documents/OD_summer/CAD Models/OD_withTestPMT/'\n",
    "\n",
    "# os.rename(r'file path\\OLD file name.file type',r'file path\\NEW file name.file type')"
   ]
  },
  {
   "cell_type": "code",
   "execution_count": 17,
   "metadata": {},
   "outputs": [
    {
     "name": "stdout",
     "output_type": "stream",
     "text": [
      "Looking in C:/Users/Emma/Documents/OD_summer/CAD Models/OD_withTestPMT/\n",
      "Rename ODModel_SimulationModelUpdatedCryostat v14_BeamSupport-1-1_.stl to ODModel_BeamSupport-1-1.stl\n",
      "Rename ODModel_SimulationModelUpdatedCryostat v14_BeamSupport-1-2_.stl to ODModel_BeamSupport-1-2.stl\n",
      "Rename ODModel_SimulationModelUpdatedCryostat v14_BeamSupport-1-3_.stl to ODModel_BeamSupport-1-3.stl\n",
      "Rename ODModel_SimulationModelUpdatedCryostat v14_BeamSupport-1-4_.stl to ODModel_BeamSupport-1-4.stl\n",
      "Rename ODModel_SimulationModelUpdatedCryostat v14_BeamSupport-1-5_.stl to ODModel_BeamSupport-1-5.stl\n",
      "Rename ODModel_SimulationModelUpdatedCryostat v14_BeamSupport-1-6_.stl to ODModel_BeamSupport-1-6.stl\n",
      "Rename ODModel_SimulationModelUpdatedCryostat v14_BeamSupport-2-1_.stl to ODModel_BeamSupport-2-1.stl\n",
      "Rename ODModel_SimulationModelUpdatedCryostat v14_BeamSupport-2-2_.stl to ODModel_BeamSupport-2-2.stl\n",
      "Rename ODModel_SimulationModelUpdatedCryostat v14_BeamSupport-2-3_.stl to ODModel_BeamSupport-2-3.stl\n",
      "Rename ODModel_SimulationModelUpdatedCryostat v14_BeamSupport-2-4_.stl to ODModel_BeamSupport-2-4.stl\n",
      "Rename ODModel_SimulationModelUpdatedCryostat v14_BeamSupport-2-5_.stl to ODModel_BeamSupport-2-5.stl\n",
      "Rename ODModel_SimulationModelUpdatedCryostat v14_BeamSupport-3-1_.stl to ODModel_BeamSupport-3-1.stl\n",
      "Rename ODModel_SimulationModelUpdatedCryostat v14_BeamSupport-3-2_.stl to ODModel_BeamSupport-3-2.stl\n",
      "Rename ODModel_SimulationModelUpdatedCryostat v14_BeamSupport-3-3_.stl to ODModel_BeamSupport-3-3.stl\n",
      "Rename ODModel_SimulationModelUpdatedCryostat v14_BeamSupport-3-4_.stl to ODModel_BeamSupport-3-4.stl\n",
      "Rename ODModel_SimulationModelUpdatedCryostat v14_BeamSupport-4-1_.stl to ODModel_BeamSupport-4-1.stl\n",
      "Rename ODModel_SimulationModelUpdatedCryostat v14_BeamSupport-4-2_.stl to ODModel_BeamSupport-4-2.stl\n",
      "Rename ODModel_SimulationModelUpdatedCryostat v14_BeamSupport-4-3_.stl to ODModel_BeamSupport-4-3.stl\n",
      "Rename ODModel_SimulationModelUpdatedCryostat v14_BeamSupport-4-4_.stl to ODModel_BeamSupport-4-4.stl\n",
      "Rename ODModel_SimulationModelUpdatedCryostat v14_BeamSupport-4-5_.stl to ODModel_BeamSupport-4-5.stl\n",
      "Rename ODModel_SimulationModelUpdatedCryostat v14_BeamSupport-5-1_.stl to ODModel_BeamSupport-5-1.stl\n",
      "Rename ODModel_SimulationModelUpdatedCryostat v14_BeamSupport-5-2_.stl to ODModel_BeamSupport-5-2.stl\n",
      "Rename ODModel_SimulationModelUpdatedCryostat v14_BeamSupport-5-3_.stl to ODModel_BeamSupport-5-3.stl\n",
      "Rename ODModel_SimulationModelUpdatedCryostat v14_BeamSupport-5-4_.stl to ODModel_BeamSupport-5-4.stl\n",
      "Rename ODModel_SimulationModelUpdatedCryostat v14_BeamSupport-6-1_.stl to ODModel_BeamSupport-6-1.stl\n",
      "Rename ODModel_SimulationModelUpdatedCryostat v14_BeamSupport-6-2_.stl to ODModel_BeamSupport-6-2.stl\n",
      "Rename ODModel_SimulationModelUpdatedCryostat v14_BeamSupport-6-3_.stl to ODModel_BeamSupport-6-3.stl\n",
      "Rename ODModel_SimulationModelUpdatedCryostat v14_BeamSupport-6-4_.stl to ODModel_BeamSupport-6-4.stl\n",
      "Rename ODModel_SimulationModelUpdatedCryostat v14_BeamSupport-6-5_.stl to ODModel_BeamSupport-6-5.stl\n",
      "Rename ODModel_SimulationModelUpdatedCryostat v14_BeamSupport-7-1_.stl to ODModel_BeamSupport-7-1.stl\n",
      "Rename ODModel_SimulationModelUpdatedCryostat v14_BeamSupport-7-2_.stl to ODModel_BeamSupport-7-2.stl\n",
      "Rename ODModel_SimulationModelUpdatedCryostat v14_BeamSupport-7-3_.stl to ODModel_BeamSupport-7-3.stl\n",
      "Rename ODModel_SimulationModelUpdatedCryostat v14_BeamSupport-7-4_.stl to ODModel_BeamSupport-7-4.stl\n",
      "Rename ODModel_SimulationModelUpdatedCryostat v14_BeamSupport-7-5_.stl to ODModel_BeamSupport-7-5.stl\n",
      "Rename ODModel_SimulationModelUpdatedCryostat v14_BeamSupport-8-1_.stl to ODModel_BeamSupport-8-1.stl\n",
      "Rename ODModel_SimulationModelUpdatedCryostat v14_BeamSupport-8-2_.stl to ODModel_BeamSupport-8-2.stl\n",
      "Rename ODModel_SimulationModelUpdatedCryostat v14_BeamSupport-8-3_.stl to ODModel_BeamSupport-8-3.stl\n",
      "Rename ODModel_SimulationModelUpdatedCryostat v14_BeamSupport-8-4_.stl to ODModel_BeamSupport-8-4.stl\n",
      "Rename ODModel_SimulationModelUpdatedCryostat v14_BeamSupport-8-5_.stl to ODModel_BeamSupport-8-5.stl\n",
      "Rename ODModel_SimulationModelUpdatedCryostat v14_BeamVerticalSupport-1-1 (1)_.stl to ODModel_BeamVerticalSupport-1-1 (1).stl\n",
      "Rename ODModel_SimulationModelUpdatedCryostat v14_BeamVerticalSupport-1-2_.stl to ODModel_BeamVerticalSupport-1-2.stl\n",
      "Rename ODModel_SimulationModelUpdatedCryostat v14_BeamVerticalSupport-2-1_.stl to ODModel_BeamVerticalSupport-2-1.stl\n",
      "Rename ODModel_SimulationModelUpdatedCryostat v14_BeamVerticalSupport-3-1_.stl to ODModel_BeamVerticalSupport-3-1.stl\n",
      "Rename ODModel_SimulationModelUpdatedCryostat v14_BeamVerticalSupport-3-2_.stl to ODModel_BeamVerticalSupport-3-2.stl\n",
      "Rename ODModel_SimulationModelUpdatedCryostat v14_BeamVerticalSupport-4-1_.stl to ODModel_BeamVerticalSupport-4-1.stl\n",
      "Rename ODModel_SimulationModelUpdatedCryostat v14_BeamVerticalSupport-5-1_.stl to ODModel_BeamVerticalSupport-5-1.stl\n",
      "Rename ODModel_SimulationModelUpdatedCryostat v14_BeamVerticalSupport-5-2_.stl to ODModel_BeamVerticalSupport-5-2.stl\n",
      "Rename ODModel_SimulationModelUpdatedCryostat v14_BeamVerticalSupport-6-1_.stl to ODModel_BeamVerticalSupport-6-1.stl\n",
      "Rename ODModel_SimulationModelUpdatedCryostat v14_BeamVerticalSupport-7-1_.stl to ODModel_BeamVerticalSupport-7-1.stl\n",
      "Rename ODModel_SimulationModelUpdatedCryostat v14_BeamVerticalSupport-7-2_.stl to ODModel_BeamVerticalSupport-7-2.stl\n",
      "Rename ODModel_SimulationModelUpdatedCryostat v14_BeamVerticalSupport-8-1_.stl to ODModel_BeamVerticalSupport-8-1.stl\n",
      "Rename ODModel_SimulationModelUpdatedCryostat v14_BottomSupportCircle-1_.stl to ODModel_BottomSupportCircle-1.stl\n",
      "Rename ODModel_SimulationModelUpdatedCryostat v14_BottomSupportCircle-2_.stl to ODModel_BottomSupportCircle-2.stl\n",
      "Rename ODModel_SimulationModelUpdatedCryostat v14_MainSupport-1_.stl to ODModel_MainSupport-1.stl\n",
      "Rename ODModel_SimulationModelUpdatedCryostat v14_MainSupport-2_.stl to ODModel_MainSupport-2.stl\n",
      "Rename ODModel_SimulationModelUpdatedCryostat v14_MainSupport-3_.stl to ODModel_MainSupport-3.stl\n",
      "Rename ODModel_SimulationModelUpdatedCryostat v14_MainSupport-4_.stl to ODModel_MainSupport-4.stl\n",
      "Rename ODModel_SimulationModelUpdatedCryostat v14_OuterCyrostat_.stl to ODModel_OuterCyrostat.stl\n",
      "Rename ODModel_SimulationModelUpdatedCryostat v14_Rough_PMT_sketch_waterproofing v2_1_Glassware_1_Component2_1_Body1_Component2.stl to ODModel_PMT_Glassware_Component2Body1_Component2.stl\n",
      "Rename ODModel_SimulationModelUpdatedCryostat v14_Rough_PMT_sketch_waterproofing v2_1_Metal Connection_1_Component3_1_Body1_Component3.stl to ODModel_PMT_MetalConnection_Component3Body1_Component3.stl\n",
      "Rename ODModel_SimulationModelUpdatedCryostat v14_Rough_PMT_sketch_waterproofing v2_1_Metal Connection_1_Component4_1_Body1_Component4.stl to ODModel_PMT_MetalConnection_Component4Body1_Component4.stl\n",
      "Rename ODModel_SimulationModelUpdatedCryostat v14_Rough_PMT_sketch_waterproofing v2_1_Metal Connection_1_Metal Prongs_1_Component6_10_Body1_Component6.stl to ODModel_PMT_MetalConnection_Component6Body1_Component6.stl\n",
      "Rename ODModel_SimulationModelUpdatedCryostat v14_Rough_PMT_sketch_waterproofing v2_1_Metal Connection_1_Metal Prongs_1_Component6_10_Body1_Component6_1.stl to ODModel_PMT_MetalConnection_10Component6_1.stl\n",
      "Rename ODModel_SimulationModelUpdatedCryostat v14_Rough_PMT_sketch_waterproofing v2_1_Metal Connection_1_Metal Prongs_1_Component6_10_Body1_Component6_10.stl to ODModel_PMT_MetalConnection_10Component6_10.stl\n",
      "Rename ODModel_SimulationModelUpdatedCryostat v14_Rough_PMT_sketch_waterproofing v2_1_Metal Connection_1_Metal Prongs_1_Component6_10_Body1_Component6_11.stl to ODModel_PMT_MetalConnection_10Component6_11.stl\n",
      "Rename ODModel_SimulationModelUpdatedCryostat v14_Rough_PMT_sketch_waterproofing v2_1_Metal Connection_1_Metal Prongs_1_Component6_10_Body1_Component6_12.stl to ODModel_PMT_MetalConnection_10Component6_12.stl\n",
      "Rename ODModel_SimulationModelUpdatedCryostat v14_Rough_PMT_sketch_waterproofing v2_1_Metal Connection_1_Metal Prongs_1_Component6_10_Body1_Component6_13.stl to ODModel_PMT_MetalConnection_10Component6_13.stl\n",
      "Rename ODModel_SimulationModelUpdatedCryostat v14_Rough_PMT_sketch_waterproofing v2_1_Metal Connection_1_Metal Prongs_1_Component6_10_Body1_Component6_14.stl to ODModel_PMT_MetalConnection_10Component6_14.stl\n",
      "Rename ODModel_SimulationModelUpdatedCryostat v14_Rough_PMT_sketch_waterproofing v2_1_Metal Connection_1_Metal Prongs_1_Component6_10_Body1_Component6_15.stl to ODModel_PMT_MetalConnection_10Component6_15.stl\n",
      "Rename ODModel_SimulationModelUpdatedCryostat v14_Rough_PMT_sketch_waterproofing v2_1_Metal Connection_1_Metal Prongs_1_Component6_10_Body1_Component6_16.stl to ODModel_PMT_MetalConnection_10Component6_16.stl\n",
      "Rename ODModel_SimulationModelUpdatedCryostat v14_Rough_PMT_sketch_waterproofing v2_1_Metal Connection_1_Metal Prongs_1_Component6_10_Body1_Component6_17.stl to ODModel_PMT_MetalConnection_10Component6_17.stl\n",
      "Rename ODModel_SimulationModelUpdatedCryostat v14_Rough_PMT_sketch_waterproofing v2_1_Metal Connection_1_Metal Prongs_1_Component6_10_Body1_Component6_18.stl to ODModel_PMT_MetalConnection_10Component6_18.stl\n",
      "Rename ODModel_SimulationModelUpdatedCryostat v14_Rough_PMT_sketch_waterproofing v2_1_Metal Connection_1_Metal Prongs_1_Component6_10_Body1_Component6_19.stl to ODModel_PMT_MetalConnection_10Component6_19.stl\n",
      "Rename ODModel_SimulationModelUpdatedCryostat v14_Rough_PMT_sketch_waterproofing v2_1_Metal Connection_1_Metal Prongs_1_Component6_10_Body1_Component6_2.stl to ODModel_PMT_MetalConnection_10Component6_2.stl\n",
      "Rename ODModel_SimulationModelUpdatedCryostat v14_Rough_PMT_sketch_waterproofing v2_1_Metal Connection_1_Metal Prongs_1_Component6_10_Body1_Component6_3.stl to ODModel_PMT_MetalConnection_10Component6_3.stl\n",
      "Rename ODModel_SimulationModelUpdatedCryostat v14_Rough_PMT_sketch_waterproofing v2_1_Metal Connection_1_Metal Prongs_1_Component6_10_Body1_Component6_4.stl to ODModel_PMT_MetalConnection_10Component6_4.stl\n",
      "Rename ODModel_SimulationModelUpdatedCryostat v14_Rough_PMT_sketch_waterproofing v2_1_Metal Connection_1_Metal Prongs_1_Component6_10_Body1_Component6_5.stl to ODModel_PMT_MetalConnection_10Component6_5.stl\n",
      "Rename ODModel_SimulationModelUpdatedCryostat v14_Rough_PMT_sketch_waterproofing v2_1_Metal Connection_1_Metal Prongs_1_Component6_10_Body1_Component6_6.stl to ODModel_PMT_MetalConnection_10Component6_6.stl\n",
      "Rename ODModel_SimulationModelUpdatedCryostat v14_Rough_PMT_sketch_waterproofing v2_1_Metal Connection_1_Metal Prongs_1_Component6_10_Body1_Component6_7.stl to ODModel_PMT_MetalConnection_10Component6_7.stl\n",
      "Rename ODModel_SimulationModelUpdatedCryostat v14_Rough_PMT_sketch_waterproofing v2_1_Metal Connection_1_Metal Prongs_1_Component6_10_Body1_Component6_8.stl to ODModel_PMT_MetalConnection_10Component6_8.stl\n",
      "Rename ODModel_SimulationModelUpdatedCryostat v14_Rough_PMT_sketch_waterproofing v2_1_Metal Connection_1_Metal Prongs_1_Component6_10_Body1_Component6_9.stl to ODModel_PMT_MetalConnection_10Component6_9.stl\n",
      "Rename ODModel_SimulationModelUpdatedCryostat v14_Rough_PMT_sketch_waterproofing v2_1_Metal Connection_1_Metal Prongs_1_Component6_11_Body1_Component6.stl to ODModel_PMT_MetalConnection_Component6Body1_Component6.stl\n"
     ]
    },
    {
     "ename": "FileExistsError",
     "evalue": "[WinError 183] Cannot create a file when that file already exists: 'C:/Users/Emma/Documents/OD_summer/CAD Models/OD_withTestPMT/ODModel_SimulationModelUpdatedCryostat v14_Rough_PMT_sketch_waterproofing v2_1_Metal Connection_1_Metal Prongs_1_Component6_11_Body1_Component6.stl' -> 'C:/Users/Emma/Documents/OD_summer/CAD Models/OD_withTestPMT/ODModel_PMT_MetalConnection_Component6Body1_Component6.stl'",
     "output_type": "error",
     "traceback": [
      "\u001b[1;31m---------------------------------------------------------------------------\u001b[0m",
      "\u001b[1;31mFileExistsError\u001b[0m                           Traceback (most recent call last)",
      "\u001b[1;32m<ipython-input-17-0c9abb1b4160>\u001b[0m in \u001b[0;36m<module>\u001b[1;34m\u001b[0m\n\u001b[1;32m----> 1\u001b[1;33m \u001b[0mLittleFunction\u001b[0m\u001b[1;33m.\u001b[0m\u001b[0mrenameSTLs\u001b[0m\u001b[1;33m(\u001b[0m\u001b[0mpath\u001b[0m\u001b[1;33m)\u001b[0m\u001b[1;33m\u001b[0m\u001b[1;33m\u001b[0m\u001b[0m\n\u001b[0m",
      "\u001b[1;32m~\\Documents\\OD_summer\\OD_work\\LittleFunction.py\u001b[0m in \u001b[0;36mrenameSTLs\u001b[1;34m(path)\u001b[0m\n\u001b[0;32m     37\u001b[0m \u001b[1;33m\u001b[0m\u001b[0m\n\u001b[0;32m     38\u001b[0m             \u001b[0mprint\u001b[0m\u001b[1;33m(\u001b[0m\u001b[1;34m\"Rename {} to {}\"\u001b[0m\u001b[1;33m.\u001b[0m\u001b[0mformat\u001b[0m\u001b[1;33m(\u001b[0m\u001b[0mold\u001b[0m\u001b[1;33m,\u001b[0m \u001b[0mnew\u001b[0m\u001b[1;33m)\u001b[0m\u001b[1;33m)\u001b[0m\u001b[1;33m\u001b[0m\u001b[1;33m\u001b[0m\u001b[0m\n\u001b[1;32m---> 39\u001b[1;33m             \u001b[0mos\u001b[0m\u001b[1;33m.\u001b[0m\u001b[0mrename\u001b[0m\u001b[1;33m(\u001b[0m\u001b[1;34mr\"{}{}\"\u001b[0m\u001b[1;33m.\u001b[0m\u001b[0mformat\u001b[0m\u001b[1;33m(\u001b[0m\u001b[0mpath\u001b[0m\u001b[1;33m,\u001b[0m \u001b[0mold\u001b[0m\u001b[1;33m)\u001b[0m\u001b[1;33m,\u001b[0m\u001b[1;34mr\"{}{}\"\u001b[0m\u001b[1;33m.\u001b[0m\u001b[0mformat\u001b[0m\u001b[1;33m(\u001b[0m\u001b[0mpath\u001b[0m\u001b[1;33m,\u001b[0m \u001b[0mnew\u001b[0m\u001b[1;33m)\u001b[0m\u001b[1;33m)\u001b[0m\u001b[1;33m\u001b[0m\u001b[1;33m\u001b[0m\u001b[0m\n\u001b[0m\u001b[0;32m     40\u001b[0m             \u001b[1;32mcontinue\u001b[0m\u001b[1;33m\u001b[0m\u001b[1;33m\u001b[0m\u001b[0m\n\u001b[0;32m     41\u001b[0m \u001b[1;33m\u001b[0m\u001b[0m\n",
      "\u001b[1;31mFileExistsError\u001b[0m: [WinError 183] Cannot create a file when that file already exists: 'C:/Users/Emma/Documents/OD_summer/CAD Models/OD_withTestPMT/ODModel_SimulationModelUpdatedCryostat v14_Rough_PMT_sketch_waterproofing v2_1_Metal Connection_1_Metal Prongs_1_Component6_11_Body1_Component6.stl' -> 'C:/Users/Emma/Documents/OD_summer/CAD Models/OD_withTestPMT/ODModel_PMT_MetalConnection_Component6Body1_Component6.stl'"
     ]
    }
   ],
   "source": [
    "LittleFunction.renameSTLs(path)"
   ]
  },
  {
   "cell_type": "code",
   "execution_count": null,
   "metadata": {},
   "outputs": [],
   "source": []
  }
 ],
 "metadata": {
  "kernelspec": {
   "display_name": "Python 3",
   "language": "python",
   "name": "python3"
  },
  "language_info": {
   "codemirror_mode": {
    "name": "ipython",
    "version": 3
   },
   "file_extension": ".py",
   "mimetype": "text/x-python",
   "name": "python",
   "nbconvert_exporter": "python",
   "pygments_lexer": "ipython3",
   "version": "3.8.5"
  }
 },
 "nbformat": 4,
 "nbformat_minor": 4
}
